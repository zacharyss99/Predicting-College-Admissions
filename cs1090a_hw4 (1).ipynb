{
 "cells": [
  {
   "cell_type": "code",
   "execution_count": 325,
   "metadata": {
    "deletable": false,
    "editable": false
   },
   "outputs": [],
   "source": [
    "# Initialize Otter\n",
    "import otter\n",
    "grader = otter.Notebook(\"cs1090a_hw4.ipynb\")"
   ]
  },
  {
   "cell_type": "markdown",
   "metadata": {
    "tags": []
   },
   "source": [
    "# <img style=\"float: left; padding-right: 10px; width: 45px\" src=\"https://raw.githubusercontent.com/Harvard-IACS/2018-CS109A/master/content/styles/iacs.png\"> CS1090A Introduction to Data Science: \n",
    "## Homework 4: Classification: Predicting College Admissions\n",
    "\n",
    "**Harvard University**<br/>\n",
    "**Fall 2024**<br/>\n",
    "**Instructors**: Pavlos Protopapas and Natesh Pillai\n",
    "\n",
    "<hr style=\"height:2.4pt\">"
   ]
  },
  {
   "cell_type": "code",
   "execution_count": 326,
   "metadata": {},
   "outputs": [
    {
     "data": {
      "text/html": [
       "<style>\n",
       "blockquote { background: #AEDE94; }\n",
       "h1 {\n",
       "    padding-top: 25px;\n",
       "    padding-bottom: 25px;\n",
       "    text-align: left;\n",
       "    padding-left: 10px;\n",
       "    background-color: #63ACBE;\n",
       "    color: black;\n",
       "}\n",
       "h2 {\n",
       "    padding-top: 10px;\n",
       "    padding-bottom: 10px;\n",
       "    text-align: left;\n",
       "    padding-left: 5px;\n",
       "    background-color: #EEEEEE;\n",
       "    color: black;\n",
       "}\n",
       "\n",
       "div.exercise {\n",
       "\tbackground-color: #f8b4ab;\n",
       "\tborder-color: #E9967A;\n",
       "\tborder-left: 5px solid #601A4A;\n",
       "\tpadding: 0.5em;\n",
       "}\n",
       "\n",
       "div.exercise-r {\n",
       "\tbackground-color: #ffd0d0;\n",
       "\tborder-color: #E9967A;\n",
       "\tborder-left: 5px solid #601A4A;\n",
       "\tpadding: 0.5em;\n",
       "}\n",
       "\n",
       "\n",
       "span.sub-q {\n",
       "\tfont-weight: bold;\n",
       "}\n",
       "div.theme {\n",
       "\tbackground-color: #63ACBE;\n",
       "\tborder-color: #E9967A;\n",
       "\tborder-left: 5px solid #601A4A;\n",
       "\tpadding: 0.5em;\n",
       "\tfont-size: 18pt;\n",
       "}\n",
       "div.gc {\n",
       "\tbackground-color: #AEDE94;\n",
       "\tborder-color: #E9967A;\n",
       "\tborder-left: 5px solid #601A4A;\n",
       "\tpadding: 0.5em;\n",
       "\tfont-size: 12pt;\n",
       "}\n",
       "p.q1 {\n",
       "    padding-top: 5px;\n",
       "    padding-bottom: 5px;\n",
       "    text-align: left;\n",
       "    padding-left: 5px;\n",
       "    background-color: #EEEEEE;\n",
       "    color: black;\n",
       "}\n",
       "header {\n",
       "   padding-top: 35px;\n",
       "    padding-bottom: 35px;\n",
       "    text-align: left;\n",
       "    padding-left: 10px;\n",
       "    background-color: #DDDDDD;\n",
       "    color: black;\n",
       "}\n",
       "span.emph {\n",
       "\tcolor: #601A4A;\n",
       "\tfont-weight: bold;\n",
       "}\n",
       "\n",
       "</style>\n"
      ],
      "text/plain": [
       "<IPython.core.display.HTML object>"
      ]
     },
     "execution_count": 326,
     "metadata": {},
     "output_type": "execute_result"
    }
   ],
   "source": [
    "# RUN THIS CELL \n",
    "import requests\n",
    "from IPython.core.display import HTML\n",
    "styles = requests.get(\n",
    "    \"https://raw.githubusercontent.com/Harvard-IACS/2021-CS109A/master/\"\n",
    "    \"themes/static/css/cs109.css\"\n",
    ").text\n",
    "HTML(styles)"
   ]
  },
  {
   "cell_type": "markdown",
   "metadata": {},
   "source": [
    "<div style = \"background: lightgreen; border: thin solid black; border-radius: 2px; padding: 5px\">\n",
    "\n",
    "### Instructions\n",
    "- To submit your notebook, follow the instructions given in on the Canvas assignment page.\n",
    "- Plots should be legible and interpretable *without having to refer to the code that generated them*. They should include labels for the $x$- and $y$-axes as well as a descriptive title and/or legend when appropriate.\n",
    "- When asked to interpret a visualization, do not simply describe it (e.g., \"the curve has a steep slope up\"), but instead explain what you believe the plot *means*.\n",
    "- Autograding tests are mostly to help you debug. The tests are not exhaustive so simply passing all tests may not be sufficient for full credit.\n",
    "- The use of *extremely* inefficient or error-prone code (e.g., copy-pasting nearly identical commands rather than looping) may result in only partial credit.\n",
    "- We have tried to include all the libraries you may need to do the assignment in the imports cell provided below. Please get course staff approval before importing any additional 3rd party libraries.\n",
    "- Enable scrolling output on cells with slighlty longer output. Avoid excessively long output.\n",
    "- Feel free to add additional code or markdown cells as needed.\n",
    "- Don't forget to include a written response when one is requested by a question prompt.\n",
    "- Ensure your code runs top to bottom without error and passes all tests by restarting the kernel and running all cells (note that this can take a few minutes). \n",
    "- **You should do a \"Restart Kernel and Run All Cells\" before submitting to ensure (1) your notebook actually runs and (2) all output is visible**\n",
    "</div>"
   ]
  },
  {
   "cell_type": "markdown",
   "metadata": {},
   "source": [
    "### Import Libraries"
   ]
  },
  {
   "cell_type": "code",
   "execution_count": 327,
   "metadata": {},
   "outputs": [],
   "source": [
    "# RUN THIS CELL\n",
    "import itertools\n",
    "import math\n",
    "import time\n",
    "\n",
    "import numpy as np\n",
    "import pandas as pd\n",
    "import seaborn as sns\n",
    "import matplotlib.pyplot as plt\n",
    "\n",
    "from sklearn.model_selection import train_test_split\n",
    "from sklearn.preprocessing import PolynomialFeatures\n",
    "from sklearn.preprocessing import StandardScaler\n",
    "from sklearn.model_selection import cross_validate, cross_val_score, cross_val_predict\n",
    "\n",
    "from sklearn.linear_model import LogisticRegression\n",
    "from sklearn.neighbors import KNeighborsClassifier\n",
    "from sklearn.linear_model import LogisticRegressionCV\n",
    "\n",
    "from sklearn.metrics import accuracy_score\n",
    "from sklearn.metrics import roc_curve\n",
    "from sklearn.metrics import roc_auc_score\n",
    "\n",
    "# pandas tricks for better display\n",
    "pd.options.display.max_columns = 50  \n",
    "pd.options.display.max_rows = 500     \n",
    "pd.options.display.max_colwidth = 100\n",
    "pd.options.display.precision = 3"
   ]
  },
  {
   "cell_type": "code",
   "execution_count": 328,
   "metadata": {},
   "outputs": [],
   "source": [
    "# For calculating total notebook runtime\n",
    "notebook_start = time.time()"
   ]
  },
  {
   "cell_type": "markdown",
   "metadata": {},
   "source": [
    "<a id=\"contents\"></a>\n",
    "\n",
    "## Notebook contents\n",
    "\n",
    "- [**Overview and data description**](#intro)\n",
    "\n",
    "\n",
    "- [**Question 1: Data exploration using train and basic models**](#part1)\n",
    "\n",
    "- [**Question 2: Interpretable modeling**](#part2)\n",
    "\n",
    "- [**Question 3: Harvard and Yale?**](#part3)\n",
    "\n",
    "- [**Question 4: Building predictive models for admitted**](#part4)\n",
    "\n",
    "- [**Question 5: Evaluating results**](#part5)\n",
    "\n",
    "- [**Question 6: BONUS!**](#part6)"
   ]
  },
  {
   "cell_type": "markdown",
   "metadata": {},
   "source": [
    "<a id=\"intro\"></a>\n",
    "\n",
    "## Overview and data description\n",
    "\n",
    "[Return to contents](#contents)\n",
    "\n",
    "### Predicting admissions into elite universities\n",
    "\n",
    "In this problem set we will model the chances of high school students being accepted into two different elite undergraduate colleges: Harvard and Yale.\n",
    "\n",
    "The data are provided in the file `data/college_admissions.csv` and were scraped in 2022 from [collegedata.com](https://www.collegedata.com/) (where applicants volunteer to share their information).  Each observation corresponds to an applicant to one of the two different colleges (note: the same applicant may show up in two rows: once for each college).  The main response is the `\"admitted\"` variable (1 = admitted, 0 = denied), and there are are several predictors to consider:\n",
    "\n",
    "- **id**: a unique identifier for the applicant \n",
    "- **test_score**: a standardized measurement of the applicant's highest ACT or SAT combined score (2400 is the maximum)\n",
    "- **ap**: the number of AP tests taken\n",
    "- **avg_ap**: the average score on the AP tests taken (0 if no tests were taken)\n",
    "- **sat_subjects**: the number of SAT subject tests taken\n",
    "- **gpa**: the unweighted GPA of the applicant (max of 4.0)\n",
    "- **female**:  a binary indicator for gender: 1 = female, 0 = otherwise\n",
    "- **minority**: a binary indicator for under-represented minority: 1 = minority, 0 = otherwise \n",
    "- **international**: a binary indicator for international status: 1 = international, 0 = United States\n",
    "- **sports**: a binary indicator for High School All-American: 1 = all-American athlete, 0 = otherwise\n",
    "- **harvard**: a categorical variable for school applied to: 1 = Harvard, 0 = Yale\n",
    "- **early_app**: a binary indicator for application type: 1 = early action, 0 = regular\n",
    "- **alumni**:  a binary indicator for parents' alumni status of school: 1 = a parent is an alumnus, 0 = otherwise\n",
    "- **program**: the program applied to by the student with many choices (we will not use this as a predictor)\n",
    "- **add_info**: additional (optional) info provided by applicant (we will not use this as a predictor)\n",
    "\n",
    "**The main set of 12 predictors is:**\n",
    "\n",
    "```python\n",
    "[\n",
    "    \"test_score\", \"ap\", \"avg_ap\", \"sat_subjects\", \n",
    "    \"gpa\", \"female\", \"minority\", \"international\",\n",
    "    \"sports\", \"harvard\", \"early_app\", \"alumni\",\n",
    "]\n",
    "```\n",
    "\n",
    "Please note, you may need to modify this list when fitting different models.\n",
    "\n",
    "\n",
    "**IMPORTANT NOTES:**\n",
    "\n",
    "- Unless stated otherwise, all logistic regression models should be unregularized (use `penalty=None`) and include the intercept (which is the default in `sklearn`).\n",
    "\n",
    "\n",
    "- When printing your output (e.g. coefficients, accuracy scores, etc.), DO NOT just print numbers without context. Please be certain provide clarifying labels for all printed numbers and limit the number of digits showing after decimals to a reasonable length (e.g. 4 decimal points for coefficients and accuracy scores).\n",
    "\n",
    "\n",
    "- Also be sure to practice good data science principles: always use train to do analysis and never touch the test set until the very end."
   ]
  },
  {
   "cell_type": "markdown",
   "metadata": {},
   "source": [
    "---"
   ]
  },
  {
   "cell_type": "markdown",
   "metadata": {},
   "source": [
    "<a id=\"part1\"></a>\n",
    "\n",
    "## <div class='exercise'>Question 1: Data exploration using train and basic models</div>\n",
    "\n",
    "[Return to contents](#contents)\n",
    "\n",
    "The first step is to split the observations into an approximate 80-20 train-test split.  Below is some code to do this for you (we want to make sure everyone has the same splits). It also prints the dataset's shape before splitting and after splitting. \n",
    "\n",
    "**IMPORTANT:** While an argument could be made to scale our predictors here, please **DO NOT** do so **UNTIL** it is requested of you in **[Question 4.1](#part4)**.\n"
   ]
  },
  {
   "cell_type": "code",
   "execution_count": 329,
   "metadata": {},
   "outputs": [
    {
     "name": "stdout",
     "output_type": "stream",
     "text": [
      "(1871, 16)\n",
      "(1496, 16) (375, 16)\n"
     ]
    },
    {
     "data": {
      "text/html": [
       "<div>\n",
       "<style scoped>\n",
       "    .dataframe tbody tr th:only-of-type {\n",
       "        vertical-align: middle;\n",
       "    }\n",
       "\n",
       "    .dataframe tbody tr th {\n",
       "        vertical-align: top;\n",
       "    }\n",
       "\n",
       "    .dataframe thead th {\n",
       "        text-align: right;\n",
       "    }\n",
       "</style>\n",
       "<table border=\"1\" class=\"dataframe\">\n",
       "  <thead>\n",
       "    <tr style=\"text-align: right;\">\n",
       "      <th></th>\n",
       "      <th>id</th>\n",
       "      <th>admitted</th>\n",
       "      <th>test_score</th>\n",
       "      <th>ap</th>\n",
       "      <th>avg_ap</th>\n",
       "      <th>sat_subjects</th>\n",
       "      <th>gpa</th>\n",
       "      <th>female</th>\n",
       "      <th>minority</th>\n",
       "      <th>international</th>\n",
       "      <th>sports</th>\n",
       "      <th>early_app</th>\n",
       "      <th>alumni</th>\n",
       "      <th>program</th>\n",
       "      <th>add_info</th>\n",
       "      <th>harvard</th>\n",
       "    </tr>\n",
       "  </thead>\n",
       "  <tbody>\n",
       "    <tr>\n",
       "      <th>192</th>\n",
       "      <td>NYFN0GE0KK</td>\n",
       "      <td>1</td>\n",
       "      <td>2310</td>\n",
       "      <td>7</td>\n",
       "      <td>5.000</td>\n",
       "      <td>5</td>\n",
       "      <td>3.98</td>\n",
       "      <td>0</td>\n",
       "      <td>0</td>\n",
       "      <td>0</td>\n",
       "      <td>0</td>\n",
       "      <td>0</td>\n",
       "      <td>0</td>\n",
       "      <td>Economics</td>\n",
       "      <td>Activities Activity Position Honors Grade Levels Approximate Time When Participated Participate ...</td>\n",
       "      <td>1</td>\n",
       "    </tr>\n",
       "    <tr>\n",
       "      <th>652</th>\n",
       "      <td>50FWDZ3MBF</td>\n",
       "      <td>1</td>\n",
       "      <td>2010</td>\n",
       "      <td>3</td>\n",
       "      <td>4.333</td>\n",
       "      <td>3</td>\n",
       "      <td>3.75</td>\n",
       "      <td>1</td>\n",
       "      <td>1</td>\n",
       "      <td>0</td>\n",
       "      <td>0</td>\n",
       "      <td>0</td>\n",
       "      <td>0</td>\n",
       "      <td>History Political Science</td>\n",
       "      <td>Drama Club Co founder of a Community Outreach Organization called Los Amigos volunteered helped ...</td>\n",
       "      <td>1</td>\n",
       "    </tr>\n",
       "    <tr>\n",
       "      <th>593</th>\n",
       "      <td>KYYHQRHBV9</td>\n",
       "      <td>0</td>\n",
       "      <td>2080</td>\n",
       "      <td>5</td>\n",
       "      <td>4.200</td>\n",
       "      <td>2</td>\n",
       "      <td>3.85</td>\n",
       "      <td>0</td>\n",
       "      <td>0</td>\n",
       "      <td>0</td>\n",
       "      <td>0</td>\n",
       "      <td>0</td>\n",
       "      <td>0</td>\n",
       "      <td>Biology Pre Med</td>\n",
       "      <td>moderate a few sports and clubs and a part time jobfamily circumstances positive</td>\n",
       "      <td>1</td>\n",
       "    </tr>\n",
       "    <tr>\n",
       "      <th>331</th>\n",
       "      <td>JQ8O4AV4VM</td>\n",
       "      <td>0</td>\n",
       "      <td>2250</td>\n",
       "      <td>0</td>\n",
       "      <td>0.000</td>\n",
       "      <td>2</td>\n",
       "      <td>4.00</td>\n",
       "      <td>0</td>\n",
       "      <td>0</td>\n",
       "      <td>0</td>\n",
       "      <td>0</td>\n",
       "      <td>0</td>\n",
       "      <td>0</td>\n",
       "      <td>Physics</td>\n",
       "      <td>NaN</td>\n",
       "      <td>1</td>\n",
       "    </tr>\n",
       "    <tr>\n",
       "      <th>1117</th>\n",
       "      <td>SJUQZVBA7K</td>\n",
       "      <td>0</td>\n",
       "      <td>2230</td>\n",
       "      <td>4</td>\n",
       "      <td>4.000</td>\n",
       "      <td>5</td>\n",
       "      <td>3.96</td>\n",
       "      <td>1</td>\n",
       "      <td>0</td>\n",
       "      <td>0</td>\n",
       "      <td>0</td>\n",
       "      <td>1</td>\n",
       "      <td>0</td>\n",
       "      <td>Chemistry Chemical Engineering</td>\n",
       "      <td>MUN Advisor 12 10 National Honors Society 12 10 California Scholarship Federation 12 9 Book Club...</td>\n",
       "      <td>0</td>\n",
       "    </tr>\n",
       "  </tbody>\n",
       "</table>\n",
       "</div>"
      ],
      "text/plain": [
       "              id  admitted  test_score  ap  avg_ap  sat_subjects   gpa  \\\n",
       "192   NYFN0GE0KK         1        2310   7   5.000             5  3.98   \n",
       "652   50FWDZ3MBF         1        2010   3   4.333             3  3.75   \n",
       "593   KYYHQRHBV9         0        2080   5   4.200             2  3.85   \n",
       "331   JQ8O4AV4VM         0        2250   0   0.000             2  4.00   \n",
       "1117  SJUQZVBA7K         0        2230   4   4.000             5  3.96   \n",
       "\n",
       "      female  minority  international  sports  early_app  alumni  \\\n",
       "192        0         0              0       0          0       0   \n",
       "652        1         1              0       0          0       0   \n",
       "593        0         0              0       0          0       0   \n",
       "331        0         0              0       0          0       0   \n",
       "1117       1         0              0       0          1       0   \n",
       "\n",
       "                             program  \\\n",
       "192                        Economics   \n",
       "652        History Political Science   \n",
       "593                 Biology Pre Med    \n",
       "331                          Physics   \n",
       "1117  Chemistry Chemical Engineering   \n",
       "\n",
       "                                                                                                 add_info  \\\n",
       "192   Activities Activity Position Honors Grade Levels Approximate Time When Participated Participate ...   \n",
       "652   Drama Club Co founder of a Community Outreach Organization called Los Amigos volunteered helped ...   \n",
       "593                      moderate a few sports and clubs and a part time jobfamily circumstances positive   \n",
       "331                                                                                                   NaN   \n",
       "1117  MUN Advisor 12 10 National Honors Society 12 10 California Scholarship Federation 12 9 Book Club...   \n",
       "\n",
       "      harvard  \n",
       "192         1  \n",
       "652         1  \n",
       "593         1  \n",
       "331         1  \n",
       "1117        0  "
      ]
     },
     "metadata": {},
     "output_type": "display_data"
    },
    {
     "name": "stdout",
     "output_type": "stream",
     "text": [
      "<class 'pandas.core.frame.DataFrame'>\n",
      "Index: 1496 entries, 192 to 1296\n",
      "Data columns (total 16 columns):\n",
      " #   Column         Non-Null Count  Dtype  \n",
      "---  ------         --------------  -----  \n",
      " 0   id             1496 non-null   object \n",
      " 1   admitted       1496 non-null   int64  \n",
      " 2   test_score     1496 non-null   int64  \n",
      " 3   ap             1496 non-null   int64  \n",
      " 4   avg_ap         1496 non-null   float64\n",
      " 5   sat_subjects   1496 non-null   int64  \n",
      " 6   gpa            1496 non-null   float64\n",
      " 7   female         1496 non-null   int64  \n",
      " 8   minority       1496 non-null   int64  \n",
      " 9   international  1496 non-null   int64  \n",
      " 10  sports         1496 non-null   int64  \n",
      " 11  early_app      1496 non-null   int64  \n",
      " 12  alumni         1496 non-null   int64  \n",
      " 13  program        1298 non-null   object \n",
      " 14  add_info       949 non-null    object \n",
      " 15  harvard        1496 non-null   int64  \n",
      "dtypes: float64(2), int64(11), object(3)\n",
      "memory usage: 198.7+ KB\n"
     ]
    }
   ],
   "source": [
    "#############################\n",
    "## DO NOT MODIFY THIS CODE ##\n",
    "#############################\n",
    "np.random.seed(121)\n",
    "\n",
    "college = pd.read_csv(\"data/college_admissions.csv\")\n",
    "\n",
    "college_train, college_test = train_test_split(\n",
    "    college,\n",
    "    test_size=0.2,\n",
    "    random_state=121,\n",
    "    shuffle=True,\n",
    "    stratify=college[\"admitted\"],\n",
    ")\n",
    "\n",
    "print(college.shape)\n",
    "print(college_train.shape, college_test.shape)\n",
    "display(college_train.head())\n",
    "college_train.info()\n",
    "\n",
    "# Separate predictors from response\n",
    "X_train, y_train = college_train.drop(columns=[\"admitted\"]), college_train[\"admitted\"]\n",
    "X_test, y_test = college_test.drop(columns=[\"admitted\"]), college_test[\"admitted\"]"
   ]
  },
  {
   "cell_type": "markdown",
   "metadata": {
    "cell_id": "0a790850-87c6-4f46-b89e-048a2295c92b",
    "colab_type": "text",
    "deletable": false,
    "editable": false,
    "id": "IGFtXJmQap2q"
   },
   "source": [
    "<div class='exercise-r'>\n",
    "\n",
    "**Q1.1** Consider a baseline, \"naive\" model that predicts that *ALL* applicants belong to the same class. This class prediction is *not* determined by an applicant's feature values, but rather by the proportion of observations in the training data belonging to each class.\n",
    "\n",
    "Calculate the accuracy of this naive model on the training data and store it in `naive_train_acc`.\n",
    "    \n",
    "**NOTE:** For this assignment, use the convention that accuracies range from 0 to 1 (to be consistant with sklearn).\n",
    "    \n",
    "</div>"
   ]
  },
  {
   "cell_type": "code",
   "execution_count": 330,
   "metadata": {
    "tags": []
   },
   "outputs": [],
   "source": [
    "# your code here\n",
    "proportion_train_raw = y_train.value_counts()\n",
    "proportion_train_raw #1092 denies 404 yes\n",
    "proportion_train = 404/1092\n",
    "\n",
    "acc_counter = 0\n",
    "if proportion_train < 0.5:\n",
    "    naive_model = np.zeros(len(y_train))\n",
    "if proportion_train >= 0.5:\n",
    "    naive_model = np.ones(len(y_train))\n",
    "\n",
    "# for decision in y_train:\n",
    "#     if naive_model[decision] == y_train[decision]:\n",
    "#         acc_counter+=1 \n",
    "        \n",
    "naive_train_acc = sum(naive_model==y_train)/len(y_train)"
   ]
  },
  {
   "cell_type": "code",
   "execution_count": 331,
   "metadata": {
    "deletable": false,
    "editable": false
   },
   "outputs": [
    {
     "name": "stdout",
     "output_type": "stream",
     "text": [
      "Naive Classification Model Based on Training Proportions\n",
      "\tTrain Accuracy: 0.7299\n"
     ]
    }
   ],
   "source": [
    "print(\"Naive Classification Model Based on Training Proportions\")\n",
    "print(f\"\\tTrain Accuracy: {naive_train_acc:.4f}\")"
   ]
  },
  {
   "cell_type": "code",
   "execution_count": 332,
   "metadata": {
    "deletable": false,
    "editable": false
   },
   "outputs": [
    {
     "data": {
      "text/html": [
       "<p><strong><pre style='display: inline;'>q1.1</pre></strong> passed! ✨</p>"
      ],
      "text/plain": [
       "q1.1 results: All test cases passed!"
      ]
     },
     "execution_count": 332,
     "metadata": {},
     "output_type": "execute_result"
    }
   ],
   "source": [
    "grader.check(\"q1.1\")"
   ]
  },
  {
   "cell_type": "markdown",
   "metadata": {
    "cell_id": "0a790850-87c6-4f46-b89e-048a2295c92b",
    "colab_type": "text",
    "deletable": false,
    "editable": false,
    "id": "IGFtXJmQap2q"
   },
   "source": [
    "<!-- BEGIN QUESTION -->\n",
    "\n",
    "<div class='exercise-r'>\n",
    "\n",
    "**Q1.2** Let's investigate how each of our 12 predictors is associated with whether or not an applicant is admitted into the college to which they applied (`admitted`). To this end, create a separate **visual** for each of our predictors to investigate their relationship with college admissions. **Suggestion:** Place these 12 visuals in a grid of subplots with 3 columns and 4 rows.\n",
    "\n",
    "</div>"
   ]
  },
  {
   "cell_type": "code",
   "execution_count": 333,
   "metadata": {
    "tags": []
   },
   "outputs": [
    {
     "data": {
      "image/png": "[encoded data removed]",
      "text/plain": [
       "<Figure size 1200x800 with 12 Axes>"
      ]
     },
     "metadata": {},
     "output_type": "display_data"
    }
   ],
   "source": [
    "# Create dummy variable\n",
    "#fig is whole figure, axes are the y's and x's axes of each plot\n",
    "fig, axes = plt.subplots(4,3, sharey= False, figsize = (12,8))\n",
    "#every individual plot is an axes. axes[1,1] is first subplot in 1st row 1st column\n",
    "\n",
    "# The main set of 12 predictors is:\n",
    "predictors =  [\n",
    "  \"test_score\", \"ap\", \"avg_ap\", \"sat_subjects\", \n",
    "    \"gpa\", \"female\", \"minority\", \"international\",\n",
    "     \"sports\", \"harvard\", \"early_app\", \"alumni\"]\n",
    "\n",
    "#want to separate the predictors into quantative and categorical\n",
    "quant_list = ['test_score', 'avg_ap', 'ap', 'gpa']\n",
    "#ax in enumerate\n",
    "#enumerate means you get index and content \n",
    "#flatten axes means we go from a matrix to an array so that we can loop over each individual subplot\n",
    "\n",
    "for i, (ax, predictor) in enumerate(zip(axes.flat, predictors)):\n",
    "    # print(i)\n",
    "    # print(axes.flat[i])\n",
    "    # # print(ax) ax = axes.flat[i]\n",
    "    # print(predictor)\n",
    "    # ax.set_title(predictor)\n",
    "    # ax.plt()\n",
    "\n",
    "    \n",
    "    if predictor in quant_list:\n",
    "        ax.hist(x = X_train[predictor][y_train==1],  density = True, color = 'blue', alpha = 0.45, label = 'admit')\n",
    "        ax.hist(x = X_train[predictor][y_train==0],  density = True, color = 'orange', alpha = 0.45, label = 'non admit')\n",
    "        ax.legend()\n",
    "        ax.set_title(predictor)\n",
    "        ax.set_xlabel(f'{predictor},score')\n",
    "        ax.set_ylabel('frequency')\n",
    "    else:\n",
    "        height_cat1_admit = len(X_train[(X_train[predictor] == 1) & (y_train == 1)]) / len(X_train[X_train[predictor] == 1])\n",
    "        height_cat1_nonadmit = len(X_train[(X_train[predictor] == 1) & (y_train == 0)]) / len(X_train[X_train[predictor] == 1])\n",
    "        height_cat0_admit = len(X_train[(X_train[predictor] == 0) & (y_train == 1)]) / len(X_train[X_train[predictor] == 1])\n",
    "        height_cat0_nonadmit = len(X_train[(X_train[predictor] == 0) & (y_train == 0)]) / len(X_train[X_train[predictor] == 1])\n",
    "        ax.bar(x = '1: admit', height = height_cat1_admit, width = 0.3)\n",
    "        ax.bar(x = '1: nonadmit', height = height_cat1_nonadmit, width = 0.3) \n",
    "        ax.bar(x = '0: admit', height = height_cat0_admit, width = 0.3)\n",
    "        ax.bar(x = '0: nonadmit', height = height_cat0_nonadmit, width = 0.3) \n",
    "        ax.set_title(predictor)\n",
    "        \n",
    "plt.tight_layout()\n",
    "        \n",
    "# your code here\n",
    "#Look at two different groups of admitted and non-admitted\n",
    "# height_admitted = len(X_train[(X_train['gender'] == 'Men') & (y_train == 1)]) / len(X_train[X_train['gender'] == 'Men'])\n"
   ]
  },
  {
   "cell_type": "markdown",
   "metadata": {
    "cell_id": "0a790850-87c6-4f46-b89e-048a2295c92b",
    "colab_type": "text",
    "deletable": false,
    "editable": false,
    "id": "IGFtXJmQap2q"
   },
   "source": [
    "<!-- END QUESTION -->\n",
    "\n",
    "<!-- BEGIN QUESTION -->\n",
    "\n",
    "<div class='exercise-r'>\n",
    "\n",
    "**1.3** Based on the visuals above, which predictor seems to have the most potential for predicting `admitted`? Why do you think this it the best potential single predictor?\n",
    "    \n",
    "</div>"
   ]
  },
  {
   "cell_type": "markdown",
   "metadata": {},
   "source": [
    "<div class=\"highlight-box\" style=\"border: 1px solid #ffcccb; background-color: #ffcccb; height: 5px;\"></div>"
   ]
  },
  {
   "cell_type": "markdown",
   "metadata": {},
   "source": [
    "I think that early_app is the best potential single predictor. I believe this because there is a clear difference in ratios between the admitted group and non-admitted group for each category (applied early and did not apply early). We can see that for the group that applied early, the admitted portion is roughly a bit over half of the non admitted portion. However, for the group that did not apply early, we see that the admitted group is rougly a third of the non admitted portion. Therefore, there is some significance in determining admittance rates if we know someone applied early or not. "
   ]
  },
  {
   "cell_type": "markdown",
   "metadata": {},
   "source": [
    "<div class=\"highlight-box\" style=\"border: 1px solid #ffcccb; background-color: #ffcccb; height: 5px;\"></div>"
   ]
  },
  {
   "cell_type": "markdown",
   "metadata": {
    "cell_id": "0a790850-87c6-4f46-b89e-048a2295c92b",
    "colab_type": "text",
    "deletable": false,
    "editable": false,
    "id": "IGFtXJmQap2q"
   },
   "source": [
    "<!-- END QUESTION -->\n",
    "\n",
    "<!-- BEGIN QUESTION -->\n",
    "\n",
    "<div class='exercise-r'>\n",
    "    \n",
    "**Q1.4** Fit a logistic regression to predict `admitted` from `harvard` (call it `logit1_4`).  \n",
    "- Store the coefficient and intercept in `logit1_4_coef` and `logit1_4_intercept`. Interpret these values.\n",
    "- Use $\\LaTeX$ to demonstrate how you can use these coefficient values to calculate the estimated probabilities of getting into each school.\n",
    "- Store the results of the above calculation in `p_harvard` and `p_yale`. \n",
    "- Which school is easier to get into according to this model?\n",
    "\n",
    "**IMPORTANT:** \n",
    "- Remember, all models in this assignment should be **unregularized** unless you are specifically asked to use regularization for a particular model.\n",
    "- Use `random_state = 109` for all of your `LogisticRegression` and `LogisticRegressionCV` models in this notebook.\n",
    "</div>"
   ]
  },
  {
   "cell_type": "code",
   "execution_count": 334,
   "metadata": {
    "tags": []
   },
   "outputs": [],
   "source": [
    "# your code here\n",
    "...\n",
    "lr = LogisticRegression(random_state=109,\n",
    "                        penalty=None)\n",
    "# Fit logistic regression model without regularization\n",
    "logit1_4 = lr.fit(X_train[['harvard']],y_train)\n",
    "# Identify and report coefficients\n",
    "logit1_4_coef = logit1_4.coef_.item()\n",
    "logit1_4_intercept = logit1_4.intercept_[0].item()\n",
    "\n",
    "B0 = logit1_4_intercept\n",
    "B1 = logit1_4_coef\n",
    "\n",
    "# print(B1)\n",
    "\n",
    "#probabilities are the 1 / (1 + e^ - (B0 + B1X1)\n",
    "#for Harvard, X1 = 1, so include entire equation\n",
    "#for Yale, x1 = 0, so only include B0\n",
    "p_admit_given_harvard = 1 / (1+np.exp(-(B0 + B1)))\n",
    "p_admit_given_yale = 1 / (1+np.exp(-B0))\n",
    "#need to solve this\n",
    "\n",
    "p_harvard = p_admit_given_harvard\n",
    "p_yale = p_admit_given_yale"
   ]
  },
  {
   "cell_type": "code",
   "execution_count": 335,
   "metadata": {
    "deletable": false,
    "editable": false
   },
   "outputs": [
    {
     "name": "stdout",
     "output_type": "stream",
     "text": [
      "The coefficient for the 'logit1_4' model's only predictor 'harvard' is 0.2512 and the intercept is -1.1280\n",
      "\n",
      "Estimated probability of acceptance for Harvard: 0.2938\n",
      "Estimated probability of acceptance for Yale: 0.2445\n"
     ]
    }
   ],
   "source": [
    "print(\n",
    "    \"The coefficient for the 'logit1_4' model's only predictor 'harvard' \"\n",
    "    \"is {:.4f} and the intercept is {:.4f}\\n\".format(\n",
    "        logit1_4_coef, logit1_4_intercept\n",
    "    )\n",
    ")\n",
    "\n",
    "print(\n",
    "    \"Estimated probability of acceptance for Harvard: {:.4f}\"\n",
    "    .format(p_harvard)\n",
    ")\n",
    "print(\n",
    "    \"Estimated probability of acceptance for Yale: {:.4f}\"\n",
    "    .format(p_yale)\n",
    ")"
   ]
  },
  {
   "cell_type": "markdown",
   "metadata": {},
   "source": [
    "<div class=\"highlight-box\" style=\"border: 1px solid #ffcccb; background-color: #ffcccb; height: 5px;\"></div>"
   ]
  },
  {
   "cell_type": "markdown",
   "metadata": {},
   "source": [
    "**Let Y represent admittance into the university. Let Y=1 if the student was admitted and Y=0 if the student was not admitted. Let X1 represent application to Harvard. X1 = 1 if the student applied to Harvard, and X1 = 0 if the student applied to Yale**\n",
    "\n",
    "$B_0 = \\ln(\\frac{P(Y=1|X=0)}{1-P(Y=1|X=0)})$ \n",
    "\n",
    "$B_0 + B_1 = \\ln(\\frac{P(Y=1|X=1}{1-P(Y=1|X=1)})$ and this term is the log odds. We can use the log odds to calculate the conditional probabilities, which I have done below\n",
    "\n",
    "$P(Y=1|X=1) = \\frac{1}{1 + e^{-(B_0 + B_1)}}$ \n",
    "\n",
    "$P(Y=1|X=0) = \\frac{1}{1 + e^{-B_0}}$\n",
    "\n",
    "In our model, we have discovered that $B_0$ = -1.1280 and $B_1$ = 0.2512. $B_0$ If we take them to the power of e, we get the respective increase in odds, which is easier to explain. $e^{-1.1280} = 0.32$ which means that Yale applicants are roughly 3X as likely to be rejected as they are accepted.\n",
    "\n",
    "$e^{0.2512}$ = 1.28, which means that Harvard applicants have 1.28X greater odds of admittance into Harvard than Yale applicants into Yale.\n",
    "\n",
    "This means that Harvard is an easier school to get into.\n",
    "\n",
    "<!-- e^b1 is the difference in odds of admission for harvard students compared to yale -->\n",
    "\n",
    "$e^{B0+B1}$ = 0.42 which means that you are about 2x more likely to be rejected from Harvard than you are to be accepted."
   ]
  },
  {
   "cell_type": "markdown",
   "metadata": {},
   "source": [
    "<div class=\"highlight-box\" style=\"border: 1px solid #ffcccb; background-color: #ffcccb; height: 5px;\"></div>"
   ]
  },
  {
   "cell_type": "code",
   "execution_count": 336,
   "metadata": {
    "deletable": false,
    "editable": false
   },
   "outputs": [
    {
     "data": {
      "text/html": [
       "<p><strong><pre style='display: inline;'>q1.4</pre></strong> passed! 🌈</p>"
      ],
      "text/plain": [
       "q1.4 results: All test cases passed!"
      ]
     },
     "execution_count": 336,
     "metadata": {},
     "output_type": "execute_result"
    }
   ],
   "source": [
    "grader.check(\"q1.4\")"
   ]
  },
  {
   "cell_type": "markdown",
   "metadata": {
    "cell_id": "0a790850-87c6-4f46-b89e-048a2295c92b",
    "colab_type": "text",
    "deletable": false,
    "editable": false,
    "id": "IGFtXJmQap2q"
   },
   "source": [
    "<!-- END QUESTION -->\n",
    "\n",
    "<!-- BEGIN QUESTION -->\n",
    "\n",
    "<div class='exercise-r'>\n",
    "\n",
    "**Q1.5** Create and display a [contingency table](https://en.wikipedia.org/wiki/Contingency_table) between `admitted` and `harvard`.  Use this table to calculate and confirm the coefficient estimates in the `logit1_4` model (both the intercept and slope). Show this calculation using $\\LaTeX$ in a markdown cell.\n",
    "    \n",
    "**Hint:** The Pandas [crosstab](https://pandas.pydata.org/pandas-docs/stable/reference/api/pandas.crosstab.html) method may be helpful here.\n",
    "\n",
    "</div>"
   ]
  },
  {
   "cell_type": "markdown",
   "metadata": {},
   "source": [
    "<div class=\"highlight-box\" style=\"border: 1px solid #ffcccb; background-color: #ffcccb; height: 5px;\"></div>"
   ]
  },
  {
   "cell_type": "markdown",
   "metadata": {},
   "source": [
    "<div class=\"highlight-box\" style=\"border: 1px solid #ffcccb; background-color: #ffcccb; height: 5px;\"></div>"
   ]
  },
  {
   "cell_type": "code",
   "execution_count": 337,
   "metadata": {
    "tags": []
   },
   "outputs": [
    {
     "name": "stdout",
     "output_type": "stream",
     "text": [
      "admitted     0    1  Total\n",
      "harvard                   \n",
      "0          544  176    720\n",
      "1          548  228    776\n",
      "Total     1092  404   1496\n"
     ]
    }
   ],
   "source": [
    "# your code here\n",
    "\n",
    "contingency = pd.crosstab(X_train['harvard'], \n",
    "                            y_train,  \n",
    "                               margins = True, margins_name = 'Total') \n",
    "print(contingency)\n"
   ]
  },
  {
   "cell_type": "markdown",
   "metadata": {},
   "source": [
    "\n",
    "$B_0$ represents the log odds of admittance (Y=1) when X = 0. What we should look for in this case is the admitted = 1 column and the harvard = 0 row. \n",
    "\n",
    "odds = $\\frac{p}{1-p}$ \n",
    "\n",
    "p_YaleAdmit = $p = \\frac{176}{720} $ \n",
    "so 1-p = $\\frac{594}{720}$.\n",
    "\n",
    "odds_YaleAdmit = $\\frac{\\frac{176}{720}}{\\frac{594}{720}} = 0.324$\n",
    "\n",
    "$B_0$ = ln(0.324) = -1.12 which is equivalent to the $B_0$ I found using the logistic regression sklearn function\n",
    "\n",
    "p_HarvardAdmit = $p = \\frac{228}{776}$ so 1-p = $\\frac{548}{776}$ \n",
    "\n",
    "odds_HarvardAdmit = $\\frac{\\frac{228}{776}}{\\frac{548}{776}}$ = 0.41\n",
    "\n",
    "$B_1 = ln \\frac{odds_HarvardAdmit}{odds_YaleAdmit} = \\frac{0.41}{0.324} = 0.254$\n",
    "\n",
    "$e^{B_1}$ represents the odds ratio associated with a one-unit change in X. In this case, as X must = 0 or 1, $e^{B_1}$ represents the odds of admission increase for Harvard applicants.\n",
    "\n",
    "$e^{B_1} = e^{0.254} = 1.28$ which means that applying to Harvard gives an applicant 1.28X higher odds of admittance than if they applied to Yale. "
   ]
  },
  {
   "cell_type": "markdown",
   "metadata": {
    "cell_id": "0a790850-87c6-4f46-b89e-048a2295c92b",
    "colab_type": "text",
    "deletable": false,
    "editable": false,
    "id": "IGFtXJmQap2q"
   },
   "source": [
    "<!-- END QUESTION -->\n",
    "\n",
    "<!-- BEGIN QUESTION -->\n",
    "\n",
    "<div class='exercise-r'>\n",
    "\n",
    "**Q1.6** Compare the estimated probabilities of being admitted into the schools to the overall acceptance rate (as seen [here](https://www.ivycoach.com/2022-ivy-league-admissions-statistics/)).  Why may what you've observed in this comparison be the case?\n",
    "    \n",
    "</div>"
   ]
  },
  {
   "cell_type": "markdown",
   "metadata": {},
   "source": [
    "<div class=\"highlight-box\" style=\"border: 1px solid #ffcccb; background-color: #ffcccb; height: 5px;\"></div>"
   ]
  },
  {
   "cell_type": "markdown",
   "metadata": {},
   "source": [
    "The overall acceptance rate for Harvard is 4.6%, while for Yale it is 6.3%. \n",
    "\n",
    "In this sample, we have seen the acceptance rate probabilities are 29% and 24% for Harvard and Yale respectively. \n",
    "\n",
    "Our sample data is from collegedata.com, (where applicants volunteer to share information). The fact that this data is volunteered hints at why the probabilities differ. Candidates with better statistics are likelier to volunteer said statistics to a website like collegedata. These candidates are more likely than others to gain acceptance to these elite universities. I think that is why we have observed this difference. \n"
   ]
  },
  {
   "cell_type": "markdown",
   "metadata": {},
   "source": [
    "<div class=\"highlight-box\" style=\"border: 1px solid #ffcccb; background-color: #ffcccb; height: 5px;\"></div>"
   ]
  },
  {
   "cell_type": "markdown",
   "metadata": {
    "deletable": false,
    "editable": false
   },
   "source": [
    "<!-- END QUESTION -->\n",
    "\n",
    "---"
   ]
  },
  {
   "cell_type": "markdown",
   "metadata": {},
   "source": [
    "<a id=\"part2\"></a>\n",
    "\n",
    "## <div class='exercise'>Question 2: Interpretable modeling</div>\n",
    "\n",
    "[Return to contents](#contents)"
   ]
  },
  {
   "cell_type": "markdown",
   "metadata": {
    "cell_id": "0a790850-87c6-4f46-b89e-048a2295c92b",
    "colab_type": "text",
    "deletable": false,
    "editable": false,
    "id": "IGFtXJmQap2q"
   },
   "source": [
    "<div class='exercise-r'>\n",
    "\n",
    "**Q2.1** \n",
    "    \n",
    "- Fit a logistic regression model to predict `admitted` from `test_score` alone. Call it `logit2_1`.\n",
    "- Store the learned parameters in `logit2_1_intercept` and `logit2_1_coef_test_score`. \n",
    "- Store the train accuracy and mean 10-fold cross-validation accuracy in `acc_train_logit2_1` and `acc_cv_logit2_1`.\n",
    "\n",
    "**Note:** The coefficients and train accuracies should come from a model fit on all the training data. To calculate the mean 10-fold cross-validation accuracy, use `cross_val_score`. This should be the strategy used throughout the notebook except when using `LogisticRegressionCV` in later questions (since this model already gives you CV scores \"for free\"). Will will assume 10 folds whenever we cross-validate in this notebook.\n",
    "</div>"
   ]
  },
  {
   "cell_type": "code",
   "execution_count": 338,
   "metadata": {
    "tags": []
   },
   "outputs": [
    {
     "name": "stderr",
     "output_type": "stream",
     "text": [
      "/Users/zacharysardi-santos/micromamba/envs/cs109a/lib/python3.12/site-packages/sklearn/base.py:493: UserWarning: X does not have valid feature names, but LogisticRegression was fitted with feature names\n",
      "  warnings.warn(\n"
     ]
    }
   ],
   "source": [
    "from sklearn import metrics\n",
    "from sklearn.metrics import accuracy_score\n",
    "\n",
    "lr = LogisticRegression(random_state = 109, penalty = None)\n",
    "logit2_1 = lr.fit(X_train[['test_score']], y_train)\n",
    "y_train_hat = logit2_1.predict(y_train.values.reshape(-1,1))\n",
    "\n",
    "logit2_1_intercept = logit2_1.intercept_.item()\n",
    "logit2_1_coef_test_score = logit2_1.coef_.item()\n",
    "\n",
    "cv_scores = cross_val_score(logit2_1, X_train[['test_score']], y_train, cv = 10)\n",
    "cv_mean_accuracy = cv_scores.mean()\n",
    "\n",
    "\n",
    "\n",
    "acc_train_logit2_1 = accuracy_score(y_train, y_train_hat)\n",
    "acc_cv_logit2_1 = cv_mean_accuracy"
   ]
  },
  {
   "cell_type": "code",
   "execution_count": 339,
   "metadata": {
    "deletable": false,
    "editable": false
   },
   "outputs": [
    {
     "name": "stdout",
     "output_type": "stream",
     "text": [
      "The intercept and coefficient for the 'logit2_1' model are:\n",
      "\tintercept           -10.5474\n",
      "\ttest_score          0.0043\n",
      "\n",
      "The classification accuracies for 'logit2_1' are:\n",
      "\n",
      "\tTrain\t0.7299\n",
      "\tCV\t0.7300\n"
     ]
    }
   ],
   "source": [
    "print(\"The intercept and coefficient for the 'logit2_1' model are:\")\n",
    "\n",
    "print(\"\\t{:<20}{:.4f}\".format('intercept', logit2_1_intercept))\n",
    "print(\"\\t{:<20}{:.4f}\".format('test_score', logit2_1_coef_test_score))\n",
    "\n",
    "print(\n",
    "    \"\\nThe classification accuracies for 'logit2_1' are:\"\n",
    "    \"\\n\\n\\tTrain\\t{:.4f}\\n\\tCV\\t{:.4f}\".format(\n",
    "        acc_train_logit2_1, acc_cv_logit2_1\n",
    "    )\n",
    ")"
   ]
  },
  {
   "cell_type": "code",
   "execution_count": 340,
   "metadata": {
    "deletable": false,
    "editable": false
   },
   "outputs": [
    {
     "data": {
      "text/html": [
       "<p><strong><pre style='display: inline;'>q2.1</pre></strong> passed! 💯</p>"
      ],
      "text/plain": [
       "q2.1 results: All test cases passed!"
      ]
     },
     "execution_count": 340,
     "metadata": {},
     "output_type": "execute_result"
    }
   ],
   "source": [
    "grader.check(\"q2.1\")"
   ]
  },
  {
   "cell_type": "markdown",
   "metadata": {
    "cell_id": "0a790850-87c6-4f46-b89e-048a2295c92b",
    "colab_type": "text",
    "deletable": false,
    "editable": false,
    "id": "IGFtXJmQap2q"
   },
   "source": [
    "<div class='exercise-r'>\n",
    "\n",
    "**Q2.2**\n",
    "    \n",
    "- What is the estimated probability of an applicant being admitted with a `test_score` of 2250? Store this in `prob_test_2250`.\n",
    "- What about if they had a perfect test score of 2400? Store this in `prob_test_2400`.\n",
    "- What test score would be needed to have a 50-50 chance (i.e. 0.5 probability) of being admitted? Store this in `test_50_50`.\n",
    "    \n",
    "</div>"
   ]
  },
  {
   "cell_type": "code",
   "execution_count": 341,
   "metadata": {
    "tags": []
   },
   "outputs": [
    {
     "name": "stderr",
     "output_type": "stream",
     "text": [
      "/Users/zacharysardi-santos/micromamba/envs/cs109a/lib/python3.12/site-packages/sklearn/base.py:493: UserWarning: X does not have valid feature names, but LogisticRegression was fitted with feature names\n",
      "  warnings.warn(\n",
      "/Users/zacharysardi-santos/micromamba/envs/cs109a/lib/python3.12/site-packages/sklearn/base.py:493: UserWarning: X does not have valid feature names, but LogisticRegression was fitted with feature names\n",
      "  warnings.warn(\n"
     ]
    },
    {
     "data": {
      "text/plain": [
       "np.float64(0.30194729361016936)"
      ]
     },
     "execution_count": 341,
     "metadata": {},
     "output_type": "execute_result"
    }
   ],
   "source": [
    "# your code here\n",
    "#predict_proba attribute of model\n",
    "array0 = np.array([[2250]])\n",
    "array1 = np.array([[2400]])\n",
    "# array1\n",
    "prob_test_2250 = logit2_1.predict_proba(array0)[0][1]\n",
    "prob_test_2400 = logit2_1.predict_proba(array1)[0][1]\n",
    "\n",
    "#the 50/50 split occurs at the decision boundary line, where the log odds equal 0\n",
    "#I know that the log odds equation is (B0 + B1*X)\n",
    "#so I need B0 + B1*X = 0\n",
    "#or X = (-B0 / B1)\n",
    "test_50_50 = -(logit2_1_intercept / logit2_1_coef_test_score)\n",
    "test_50_50\n",
    "prob_test_2250"
   ]
  },
  {
   "cell_type": "code",
   "execution_count": 342,
   "metadata": {
    "deletable": false,
    "editable": false
   },
   "outputs": [
    {
     "name": "stdout",
     "output_type": "stream",
     "text": [
      "The estimated chances of an applicant being admitted with the following two 'test' scores:\n",
      "\n",
      "\tscore\tprobabilities\n",
      "\t2250\t0.3019\n",
      "\t2400\t0.4525\n",
      "\n",
      "The test score required to have a 50-50 chance of being admitted is approximately:\n",
      "\n",
      "\t2444.20\n"
     ]
    }
   ],
   "source": [
    "print(\n",
    "    \"The estimated chances of an applicant being admitted with \"\n",
    "    \"the following two 'test' scores:\\n\\n\\tscore\\tprobabilities\"\n",
    "    \"\\n\\t2250\\t{:.4f}\\n\\t2400\\t{:.4f}\\n\"\n",
    "    .format(prob_test_2250, prob_test_2400)\n",
    ")\n",
    "\n",
    "print(\n",
    "    \"The test score required to have a 50-50 chance of being \"\n",
    "    \"admitted is approximately:\\n\\n\\t{:.2f}\"\n",
    "    .format(test_50_50)\n",
    ")"
   ]
  },
  {
   "cell_type": "code",
   "execution_count": 343,
   "metadata": {
    "deletable": false,
    "editable": false
   },
   "outputs": [
    {
     "data": {
      "text/html": [
       "<p><strong><pre style='display: inline;'>q2.2</pre></strong> passed! 🌈</p>"
      ],
      "text/plain": [
       "q2.2 results: All test cases passed!"
      ]
     },
     "execution_count": 343,
     "metadata": {},
     "output_type": "execute_result"
    }
   ],
   "source": [
    "grader.check(\"q2.2\")"
   ]
  },
  {
   "cell_type": "markdown",
   "metadata": {
    "cell_id": "0a790850-87c6-4f46-b89e-048a2295c92b",
    "colab_type": "text",
    "deletable": false,
    "editable": false,
    "id": "IGFtXJmQap2q"
   },
   "source": [
    "<div class='exercise-r'>\n",
    "\n",
    "**Q2.3** Fit a logistic regression model to predict `admitted` from `test_score` and `avg_ap` (call it `logit2_3`).  Store the train and mean cv accuracies calculated as before in `acc_train_logit2_3` and `acc_cv_logit2_3`. Then use the provided code to print out the coefficient estimates along with the accuracy scores.\n",
    "    \n",
    "</div>"
   ]
  },
  {
   "cell_type": "code",
   "execution_count": 344,
   "metadata": {
    "tags": []
   },
   "outputs": [],
   "source": [
    "# your code here\n",
    "\n",
    "lr = LogisticRegression(random_state = 109, penalty = None)\n",
    "logit2_3 = lr.fit(X_train[['test_score', 'avg_ap']], y_train)\n",
    "y_hat_train = lr.predict(X_train[['test_score', 'avg_ap']])\n",
    "\n",
    "\n",
    "logit2_3_intercept = logit2_3.intercept_[0]\n",
    "logit2_3_coef_test_score = logit2_3.coef_[0][0]\n",
    "logit2_3_coef_avg_ap = logit2_3.coef_[0][1]\n",
    "\n",
    "cv_scores = cross_val_score(logit2_1, X_train[['test_score']], y_train, cv = 10)\n",
    "cv_mean_accuracy = cv_scores.mean()\n",
    "\n",
    "acc_train_logit2_3 = accuracy_score(y_train, y_hat_train)\n",
    "acc_cv_logit2_3 = cv_mean_accuracy"
   ]
  },
  {
   "cell_type": "code",
   "execution_count": 345,
   "metadata": {
    "deletable": false,
    "editable": false
   },
   "outputs": [
    {
     "name": "stdout",
     "output_type": "stream",
     "text": [
      "The intercept and coefficients for the 'logit2_3' model are:\n",
      "\tintercept           -10.9086\n",
      "\ttest                0.0046\n",
      "\tavg_ap              -0.0723\n",
      "\n",
      "The classification accuracies for 'logit2_3' are:\n",
      "\n",
      "\tTrain\t0.7306\n",
      "\tCV\t0.7300\n"
     ]
    }
   ],
   "source": [
    "# Print the results of logit2_3\n",
    "print(\"The intercept and coefficients for the 'logit2_3' model are:\")\n",
    "print(\"\\t{:<20}{:.4f}\".format('intercept', logit2_3_intercept))\n",
    "print(\"\\t{:<20}{:.4f}\".format('test', logit2_3_coef_test_score))\n",
    "print(\"\\t{:<20}{:.4f}\".format('avg_ap', logit2_3_coef_avg_ap))\n",
    "\n",
    "print(\n",
    "    \"\\nThe classification accuracies for 'logit2_3' are:\\n\\n\\tTrain\\t{:.4f}\\n\\tCV\\t{:.4f}\"\n",
    "    .format(acc_train_logit2_3, acc_cv_logit2_3)\n",
    ")"
   ]
  },
  {
   "cell_type": "code",
   "execution_count": 346,
   "metadata": {
    "deletable": false,
    "editable": false
   },
   "outputs": [
    {
     "data": {
      "text/html": [
       "<p><strong><pre style='display: inline;'>q2.3</pre></strong> passed! 🌈</p>"
      ],
      "text/plain": [
       "q2.3 results: All test cases passed!"
      ]
     },
     "execution_count": 346,
     "metadata": {},
     "output_type": "execute_result"
    }
   ],
   "source": [
    "grader.check(\"q2.3\")"
   ]
  },
  {
   "cell_type": "markdown",
   "metadata": {
    "cell_id": "0a790850-87c6-4f46-b89e-048a2295c92b",
    "colab_type": "text",
    "deletable": false,
    "editable": false,
    "id": "IGFtXJmQap2q"
   },
   "source": [
    "<!-- BEGIN QUESTION -->\n",
    "\n",
    "<div class='exercise-r'>\n",
    "\n",
    "**Q2.4** Interpret the coefficient estimates for both predictors in `logit2_3` and compare the coefficient estimate for `test_score` to the one from `logit2_1`.  Why has this estimate changed?\n",
    "\n",
    "You should inspect the relationship between `test_score` and `avg_ap` to help get a better sense for what might be happening here.\n",
    "\n",
    "</div>"
   ]
  },
  {
   "cell_type": "code",
   "execution_count": 347,
   "metadata": {
    "deletable": false,
    "editable": false
   },
   "outputs": [
    {
     "name": "stdout",
     "output_type": "stream",
     "text": [
      "The intercept and coefficient for the 'logit2_1' model are:\n",
      "\tintercept           -10.5474\n",
      "\ttest_score          0.0043\n",
      "The intercept and coefficients for the 'logit2_3' model are:\n",
      "\tintercept           -10.9086\n",
      "\ttest_score          0.0046\n",
      "\tavg_ap              -0.0723\n"
     ]
    }
   ],
   "source": [
    "# Print the parameters of the last 2 models\n",
    "print(\"The intercept and coefficient for the 'logit2_1' model are:\")\n",
    "\n",
    "print(\"\\t{:<20}{:.4f}\".format('intercept', logit2_1_intercept))\n",
    "print(\"\\t{:<20}{:.4f}\".format('test_score', logit2_1_coef_test_score))\n",
    "\n",
    "print(\"The intercept and coefficients for the 'logit2_3' model are:\")\n",
    "print(\"\\t{:<20}{:.4f}\".format('intercept', logit2_3_intercept))\n",
    "print(\"\\t{:<20}{:.4f}\".format('test_score', logit2_3_coef_test_score))\n",
    "print(\"\\t{:<20}{:.4f}\".format('avg_ap', logit2_3_coef_avg_ap))"
   ]
  },
  {
   "cell_type": "markdown",
   "metadata": {},
   "source": [
    "<div class=\"highlight-box\" style=\"border: 1px solid #ffcccb; background-color: #ffcccb; height: 5px;\"></div>"
   ]
  },
  {
   "cell_type": "markdown",
   "metadata": {},
   "source": [
    "logit2_1 was trained on one feature, test_score. logit2_3 was trained on two features, test_score and avg_ap. \n",
    "So after plotting the relationship between test_score and avg_ap (below), I see that multicollinearity is involved in this logistic regression model. \n",
    "\n",
    "One simple explanation for the difference in the coefficient values between the two models is that for logit2_1, only test_score was used to predict admittance; however, in logit2_3, two features are used. This distributes the explanatory power between the two features, leading to the differing test_score coefficients we see between the two models.\n",
    "\n",
    "This also explains the change in intercept values. The change in the intercept value occurs because the baseline probability (with all predictors at zero) is adjusted to account for the presence of avg_ap. For logit2_3, the intercept must represent the outcome probability when both test_score and avg_ap are zero. \n",
    "\n",
    "Another explanation is multicollinearity. These variables are colinear, and thus the interpretability of the coefficients might suffer. However, this doesn't entirely make sense because if both features were positively correlated (as it looks from the scatter plot below), then it would not make sense that $B_1$ is positive and $B_2$ is negative, as an increase in one variable would be correlated to increase in the other. "
   ]
  },
  {
   "cell_type": "markdown",
   "metadata": {},
   "source": [
    "<div class=\"highlight-box\" style=\"border: 1px solid #ffcccb; background-color: #ffcccb; height: 5px;\"></div>"
   ]
  },
  {
   "cell_type": "code",
   "execution_count": 348,
   "metadata": {
    "tags": []
   },
   "outputs": [
    {
     "data": {
      "image/png": "[encoded data removed]",
      "text/plain": [
       "<Figure size 640x480 with 1 Axes>"
      ]
     },
     "metadata": {},
     "output_type": "display_data"
    }
   ],
   "source": [
    "# your code here\n",
    "plt.scatter(X_train['test_score'], X_train['avg_ap'], alpha = 0.45, color = 'green')\n",
    "plt.grid(True)\n",
    "plt.xlabel('test score', fontsize = 15)\n",
    "plt.ylabel('avg_ap score', fontsize = 15)\n",
    "plt.title('Relationship between test_score and avg_ap', fontsize = 15)\n",
    "plt.show()"
   ]
  },
  {
   "cell_type": "markdown",
   "metadata": {
    "cell_id": "0a790850-87c6-4f46-b89e-048a2295c92b",
    "colab_type": "text",
    "deletable": false,
    "editable": false,
    "id": "IGFtXJmQap2q"
   },
   "source": [
    "<!-- END QUESTION -->\n",
    "\n",
    "<!-- BEGIN QUESTION -->\n",
    "\n",
    "<div class='exercise-r'>\n",
    "\n",
    "**Q2.5** Interpret and compare the train and cv accuracies for the two models, `logit2_1` and `logit2_3`.  Explain why these accuracies are the same or different, and what about the data makes these accuracies so similar or different.\n",
    "\n",
    "</div>"
   ]
  },
  {
   "cell_type": "code",
   "execution_count": 349,
   "metadata": {
    "deletable": false,
    "editable": false
   },
   "outputs": [
    {
     "name": "stdout",
     "output_type": "stream",
     "text": [
      "\n",
      "The classification accuracies for 'logit2_1' are:\n",
      "\n",
      "\tTrain\t0.7299\n",
      "\tCV\t0.7300\n",
      "\n",
      "The classification accuracies for 'logit2_3' are:\n",
      "\n",
      "\tTrain\t0.7306\n",
      "\tCV\t0.7300\n"
     ]
    }
   ],
   "source": [
    "# Display accuracies of last 2 models\n",
    "print(\n",
    "    \"\\nThe classification accuracies for 'logit2_1' are:\\n\\n\\tTrain\\t{:.4f}\\n\\tCV\\t{:.4f}\"\n",
    "    .format(acc_train_logit2_1, acc_cv_logit2_1)\n",
    ")\n",
    "print(\n",
    "    \"\\nThe classification accuracies for 'logit2_3' are:\\n\\n\\tTrain\\t{:.4f}\\n\\tCV\\t{:.4f}\"\n",
    "    .format(acc_train_logit2_3, acc_cv_logit2_3)\n",
    ")"
   ]
  },
  {
   "cell_type": "markdown",
   "metadata": {},
   "source": [
    "<div class=\"highlight-box\" style=\"border: 1px solid #ffcccb; background-color: #ffcccb; height: 5px;\"></div>"
   ]
  },
  {
   "cell_type": "markdown",
   "metadata": {},
   "source": [
    "The train accuracies are extremely similar, yet logit2_3 has a slightly higher train accuracy. Including another predictor for the model improves accuracy/overfitting, as the model is more complex.\n",
    "\n",
    "The CV accuracies are similar as well. This suggests that avg_ap does not substantially improve the model's generalization to unseen data. Even though avg_ap may add some predictive power in the training set, it doesn’t significantly improve the model's performance on validation data. This means that either avg_ap is a weak predictor for admittance or it is highly correlated with test_score. "
   ]
  },
  {
   "cell_type": "markdown",
   "metadata": {},
   "source": [
    "<div class=\"highlight-box\" style=\"border: 1px solid #ffcccb; background-color: #ffcccb; height: 5px;\"></div>"
   ]
  },
  {
   "cell_type": "markdown",
   "metadata": {
    "deletable": false,
    "editable": false
   },
   "source": [
    "<!-- END QUESTION -->\n",
    "\n",
    "---"
   ]
  },
  {
   "cell_type": "markdown",
   "metadata": {},
   "source": [
    "<a id=\"part3\"></a>\n",
    "\n",
    "## <div class='exercise'>Question 3: Harvard and Yale?</div>\n",
    "\n",
    "[Return to contents](#contents)"
   ]
  },
  {
   "cell_type": "markdown",
   "metadata": {
    "cell_id": "0a790850-87c6-4f46-b89e-048a2295c92b",
    "colab_type": "text",
    "deletable": false,
    "editable": false,
    "id": "IGFtXJmQap2q"
   },
   "source": [
    "<!-- BEGIN QUESTION -->\n",
    "\n",
    "<div class='exercise-r'>\n",
    "\n",
    "**Q3.1**\n",
    "- Fit a logistic regression model (call it `logit3_1`) to predict `admitted` from 7 predictors: `[\"harvard\", \"test_score\", \"ap\", \"avg_ap\", \"gpa\", \"female\", \"minority\"]`.\n",
    "- Store the train and mean cv accuracies in `acc_train_logit3_1` and `acc_cv_logit3_1`.\n",
    "- Interpret the coefficients for the binary predictors in this model.\n",
    "\n",
    "**Hint:**\n",
    "- If you have convergence warnings, increasing the maximum number of iterations will likely solve this issue.\n",
    "    \n",
    "</div>"
   ]
  },
  {
   "cell_type": "code",
   "execution_count": 350,
   "metadata": {
    "deletable": false,
    "editable": false
   },
   "outputs": [],
   "source": [
    "# Print statements below assume predictors used in this order\n",
    "logit3_1_predictors = [\"harvard\", \"test_score\", \"ap\", \"avg_ap\", \"gpa\", \"female\", \"minority\"]"
   ]
  },
  {
   "cell_type": "markdown",
   "metadata": {},
   "source": [
    "<div class=\"highlight-box\" style=\"border: 1px solid #ffcccb; background-color: #ffcccb; height: 5px;\"></div>"
   ]
  },
  {
   "cell_type": "markdown",
   "metadata": {},
   "source": [
    "\n",
    "\n",
    "Anyway, the binary coefficients are x1 (harvard), x6(female), x7(minority). \n",
    "$B_1$ = 0.2578, $B_6$ = -0.0490, and $B_7$ = 0.7709. \n",
    "\n",
    "It is easier to interpret the beta values if I bring them to the power of e. \n",
    "\n",
    "$e^{B_1} = e^{0.2578} = 1.294$ which means that if the applicant applied to harvard, holding all other variables constant, they receive a 1.294X boost in the odds of admittance to harvard.\n",
    "\n",
    "$e^{B_6} = e^{-0.0490} = 0.952$ which means that if the applicant is a female, holding all other variables constant, they receive a 0.95X increase in odds of admittance to an elite university (which means that their slightly odds decrease if they are female). \n",
    "\n",
    "$e^{B_7} = e^{0.7709} = 2.162$, which means that if the applicant is a minority, holding all other variables constant, they receive a 2.16X increase in odds of admittance to an elite university. "
   ]
  },
  {
   "cell_type": "markdown",
   "metadata": {},
   "source": [
    "<div class=\"highlight-box\" style=\"border: 1px solid #ffcccb; background-color: #ffcccb; height: 5px;\"></div>"
   ]
  },
  {
   "cell_type": "code",
   "execution_count": 351,
   "metadata": {
    "scrolled": true,
    "tags": []
   },
   "outputs": [],
   "source": [
    "# your code here\n",
    "lr = LogisticRegression(random_state = 109, penalty = None, max_iter = 1000)\n",
    "logit3_1 = lr.fit(X_train[logit3_1_predictors], y_train)\n",
    "y_hat_train = lr.predict(X_train[logit3_1_predictors])\n",
    "\n",
    "cv_scores = cross_val_score(logit3_1, X_train[logit3_1_predictors], y_train, cv = 10, scoring = 'accuracy')\n",
    "\n",
    "acc_train_logit3_1 = accuracy_score(y_train, y_hat_train)\n",
    "acc_cv_logit3_1 = cv_scores.mean()"
   ]
  },
  {
   "cell_type": "code",
   "execution_count": 352,
   "metadata": {
    "scrolled": true,
    "tags": []
   },
   "outputs": [
    {
     "name": "stdout",
     "output_type": "stream",
     "text": [
      "The intercept and coefficients for the 'logit3_1' model are:\n",
      "\n",
      "\tintercept           -13.2472\n",
      "\tharvard             0.2580\n",
      "\ttest_score          0.0052\n",
      "\tap                  -0.0484\n",
      "\tavg_ap              -0.0303\n",
      "\tgpa                 0.2137\n",
      "\tfemale              -0.0493\n",
      "\tminority            0.7714\n",
      "\n",
      "The classification accuracies for 'logit3_1' are:\n",
      "\n",
      "\tTrain\t0.7353\n",
      "\tCV\t0.7300\n"
     ]
    }
   ],
   "source": [
    "# Grab model's intercept and coefs regardless of their shape\n",
    "# (which depends on how x and y were shaped)\n",
    "logit3_1_intercept = np.array(logit3_1.intercept_).flatten()[0]\n",
    "logit3_1_coefs = logit3_1.coef_.flatten()\n",
    "\n",
    "print(\n",
    "    \"The intercept and coefficients for the 'logit3_1' model are:\"\n",
    "    \"\\n\\n\\t{:<20}{:.4f}\".format(\n",
    "        \"intercept\", logit3_1_intercept\n",
    "    )\n",
    ")\n",
    "for predictor, coef in zip(logit3_1_predictors, logit3_1_coefs):\n",
    "    print(\"\\t{:<20}{:.4f}\".format(predictor, coef))\n",
    "\n",
    "print(\n",
    "    \"\\nThe classification accuracies for 'logit3_1' are:\"\n",
    "    \"\\n\\n\\tTrain\\t{:.4f}\\n\\tCV\\t{:.4f}\"\n",
    "    .format(acc_train_logit3_1, acc_cv_logit3_1)\n",
    ")"
   ]
  },
  {
   "cell_type": "code",
   "execution_count": 353,
   "metadata": {
    "deletable": false,
    "editable": false
   },
   "outputs": [
    {
     "data": {
      "text/html": [
       "<p><strong><pre style='display: inline;'>q3.1</pre></strong> passed! 🚀</p>"
      ],
      "text/plain": [
       "q3.1 results: All test cases passed!"
      ]
     },
     "execution_count": 353,
     "metadata": {},
     "output_type": "execute_result"
    }
   ],
   "source": [
    "grader.check(\"q3.1\")"
   ]
  },
  {
   "cell_type": "markdown",
   "metadata": {
    "cell_id": "0a790850-87c6-4f46-b89e-048a2295c92b",
    "colab_type": "text",
    "deletable": false,
    "editable": false,
    "id": "IGFtXJmQap2q"
   },
   "source": [
    "<!-- END QUESTION -->\n",
    "\n",
    "<div class='exercise-r'>\n",
    "\n",
    "**Q3.2** Fit a logistic regression model (call it `logit3_2`) to predict `admitted` from 3 predictors: `[\"harvard\", \"test_score\", \"ap\"]` along with the 2 interaction terms: `harvard` with `test_score` and `harvard` with `ap`. Name the columns for these interaction terms `harvard_test_score` and `harvard_ap`. Store the train and mean cv accuracies in `acc_train_logit3_2` and `acc_cv_logit3_2`.\n",
    "\n",
    "</div>"
   ]
  },
  {
   "cell_type": "code",
   "execution_count": 354,
   "metadata": {
    "deletable": false,
    "editable": false
   },
   "outputs": [],
   "source": [
    "# Print statement below assumes this order of predictors\n",
    "logit3_2_predictors = [\"harvard\", \"test_score\", \"ap\", \"harvard_test_score\", \"harvard_ap\"]"
   ]
  },
  {
   "cell_type": "code",
   "execution_count": 355,
   "metadata": {
    "tags": []
   },
   "outputs": [],
   "source": [
    "# your code here\n",
    "#QUESTION: How to creat interaction terms? \n",
    "\n",
    "#instantiate interaction terms\n",
    "harvard_test_score = X_train['harvard']*X_train['test_score']\n",
    "harvard_ap = X_train['harvard']*X_train['ap']\n",
    "\n",
    "X_train['harvard_test_score'] = harvard_test_score\n",
    "X_train['harvard_ap'] = harvard_ap\n",
    "\n",
    "lr = LogisticRegression(random_state = 109, penalty = None, max_iter = 210)\n",
    "logit3_2 = lr.fit(X_train[logit3_2_predictors], y_train)\n",
    "\n",
    "y_hat_train = lr.predict(X_train[logit3_2_predictors])\n",
    "# cross_val_score(logit3_1, X_train[logit3_1_predictors], y_train)\n",
    "cv_scores = cross_val_score(logit3_2, X_train[logit3_2_predictors], y_train, cv= 10)\n",
    "\n",
    "acc_train_logit3_2 = accuracy_score(y_train, y_hat_train)\n",
    "acc_cv_logit3_2 = cv_scores.mean()"
   ]
  },
  {
   "cell_type": "code",
   "execution_count": 356,
   "metadata": {
    "tags": []
   },
   "outputs": [
    {
     "name": "stdout",
     "output_type": "stream",
     "text": [
      "The intercept and coefficients for the 'logit3_2' model are:\n",
      "\n",
      "\tintercept           -9.8464\n",
      "\tharvard             -2.0378\n",
      "\ttest_score          0.0039\n",
      "\tap                  0.0048\n",
      "\tharvard_test_score  0.0012\n",
      "\tharvard_ap          -0.1045\n",
      "\n",
      "The classification accuracies for 'logit3_2' are:\n",
      "\n",
      "\tTrain\t0.7360\n",
      "\tCV\t0.7353\n"
     ]
    }
   ],
   "source": [
    "# Print results of logit3_2\n",
    "logit3_2_intercept = np.array(logit3_2.intercept_).flatten()[0]\n",
    "logit3_2_coefs = logit3_2.coef_.flatten()\n",
    "\n",
    "print(\n",
    "    \"The intercept and coefficients for the 'logit3_2' model are:\"\n",
    "    \"\\n\\n\\t{:<20}{:.4f}\".format(\n",
    "        \"intercept\", logit3_2_intercept\n",
    "    )\n",
    ")\n",
    "\n",
    "for predictor, coef in zip(logit3_2_predictors, logit3_2_coefs):\n",
    "    print(\"\\t{:<20}{:.4f}\".format(predictor, coef))\n",
    "    \n",
    "print(\n",
    "    \"\\nThe classification accuracies for 'logit3_2' are:\"\n",
    "    \"\\n\\n\\tTrain\\t{:.4f}\\n\\tCV\\t{:.4f}\"\n",
    "    .format(acc_train_logit3_2, acc_cv_logit3_2)\n",
    ")"
   ]
  },
  {
   "cell_type": "code",
   "execution_count": 357,
   "metadata": {
    "deletable": false,
    "editable": false
   },
   "outputs": [
    {
     "data": {
      "text/html": [
       "<p><strong><pre style='display: inline;'>q3.2</pre></strong> passed! 🚀</p>"
      ],
      "text/plain": [
       "q3.2 results: All test cases passed!"
      ]
     },
     "execution_count": 357,
     "metadata": {},
     "output_type": "execute_result"
    }
   ],
   "source": [
    "grader.check(\"q3.2\")"
   ]
  },
  {
   "cell_type": "markdown",
   "metadata": {
    "cell_id": "0a790850-87c6-4f46-b89e-048a2295c92b",
    "colab_type": "text",
    "deletable": false,
    "editable": false,
    "id": "IGFtXJmQap2q"
   },
   "source": [
    "<!-- BEGIN QUESTION -->\n",
    "\n",
    "<div class='exercise-r'>\n",
    "\n",
    "**Q3.3** Simplify and write out mathematically the above model from Question 3.2 for 2 applicants:\n",
    "1. someone who is applying to Harvard\n",
    "2. someone who is applying to Yale (keep `test_score` and `ap` as the unknown $X$s).\n",
    "\n",
    "The basic framework given to you below may be helpful:\n",
    "\n",
    "$$ \\ln \\left( \\frac{P(Y=1)}{1-P(Y=1)} \\right) = \\beta_0 + \\beta_1 X_1 + \\dots + \\beta_p X_p $$\n",
    "    \n",
    "**NOTE:** All of your mathematical statements should be written out in your markdown cells using $\\LaTeX$. Show all your steps, not just the final result.\n",
    "\n",
    "</div>"
   ]
  },
  {
   "cell_type": "markdown",
   "metadata": {},
   "source": [
    "<div class=\"highlight-box\" style=\"border: 1px solid #ffcccb; background-color: #ffcccb; height: 5px;\"></div>"
   ]
  },
  {
   "cell_type": "markdown",
   "metadata": {},
   "source": [
    "**1.** ln$(\\frac{P(Y=1)}{1 - P(Y=1)}) = B_0 + B_1 + B_2*X_2 + B_3*X_3 + B_4*X_2 + B_5*X_3$ b/c $X_1 = 1$.\n",
    "\n",
    "Plugging in the values we get \n",
    "\n",
    "$\\ln(\\frac{P(Y=1)}{1 - P(Y=1)})$ = $-9.8464 - 2.0378 + 0.0039(X_2) + 0.0048(X_3) + 0.0012(X_2) - 0.1045(X_3)$.\n",
    "\n",
    "$\\ln(\\frac{P(Y=1)}{1 - P(Y=1)})$ = $-11.8842 + 0.0051X_2 - 0.0997X_3$\n",
    "\n",
    "\n",
    "\n",
    "\n",
    "**2.** $\\ln(\\frac{P(Y=1)}{1 - P(Y=1)}) = B_0 + B_2*X_2 + B_3*X_3$ \n",
    "\n",
    "as $X_1 = 0$\n",
    "\n",
    "Plugging in the values we get\n",
    "\n",
    "$ln(\\frac{P(Y=1)}{1 - P(Y=1)}) = -9.8464 + 0.0039(X_2)+ 0.0048(X_3)$\n",
    "\n",
    "\n"
   ]
  },
  {
   "cell_type": "markdown",
   "metadata": {},
   "source": [
    "<div class=\"highlight-box\" style=\"border: 1px solid #ffcccb; background-color: #ffcccb; height: 5px;\"></div>"
   ]
  },
  {
   "cell_type": "markdown",
   "metadata": {
    "cell_id": "0a790850-87c6-4f46-b89e-048a2295c92b",
    "colab_type": "text",
    "deletable": false,
    "editable": false,
    "id": "IGFtXJmQap2q"
   },
   "source": [
    "<!-- END QUESTION -->\n",
    "\n",
    "<!-- BEGIN QUESTION -->\n",
    "\n",
    "<div class='exercise-r'>\n",
    "\n",
    "**Q3.4** Determine two classification boundaries mathematically for the model in the previous part (using the estimated coefficients): What range of values of `test_score` as a function of `ap` would an applicant be predicted to have a better than 50% chance (i.e. 0.5 probability) of being admitted into the college they applied to? \n",
    "\n",
    "Use the function for Harvard to answer the following question: if a student scored a perfect 2400 on `test_score`, what is the range of AP tests they should take in order to have a better than 50% chance of being admitted into Harvard?\n",
    "\n",
    "Again, you should show your work in $\\LaTeX$.\n",
    "</div>"
   ]
  },
  {
   "cell_type": "markdown",
   "metadata": {},
   "source": [
    "<div class=\"highlight-box\" style=\"border: 1px solid #ffcccb; background-color: #ffcccb; height: 5px;\"></div>"
   ]
  },
  {
   "cell_type": "markdown",
   "metadata": {},
   "source": [
    "If we assume our decision threshold is p = 1/2 for the first scenario where the applicant applies to harvard...\n",
    "\n",
    "then $\\frac{1}{1+e^-(B_0 + B_1 + B_2*X_2 + B_3*X_3 + B_4*X_2+B_5*X_3)} = \\frac{1}{2}$\n",
    "\n",
    "So then $1+e^-(B_0 + B_1 + B_2*X_2 + B_3*X_3 + B_4*X_2+B_5*X_3) = 2$\n",
    "\n",
    "So $B_0 + B_1 + B_2*X_2 + B_3*X_3 + B_4*X_2+B_5*X_3 = 0$\n",
    "\n",
    "Rearranging these terms; The decision boundary for a **Harvard applicant** is...\n",
    "\n",
    "$X_2 =  \\frac{-B_0 - B_1 - B_3*X_3 - B_5*X_3}{B_2 + B_4}$ \n",
    "\n",
    "We want to be above the decision boundary as that means we have a probability >= 0.5, so we want\n",
    "\n",
    "$X_2 =  \\frac{9.8464 + 2.0378 - 0.0048*X_3 + 0.1045*X_3}{0.0039 + 0.0012}$  \n",
    "\n",
    "**$X_2 > \\frac{11.8842 + 0.0997*X_3}{0.0051}$**\n",
    "\n",
    "If we assume our decision threshold is p = 1/2 for the second scenario **(Yale Applicant)**...\n",
    "\n",
    "$B_0 + B_2*X_2 + B_3*X_3 = 0$\n",
    "\n",
    "$B_2*X_2 = -B_0 - B_3*X_3$\n",
    "\n",
    "**$X_2 >  \\frac{9.8464 - 0.0048*X_3}{0.0039}$**\n",
    "\n",
    "\n",
    "**if a student scored a perfect 2400 on test_score, what is the range of AP tests they should take in order to have a better than 50% chance of being admitted into Harvard?**\n",
    "\n",
    "I will plug in X2 = 2400 and solve for X3\n",
    "\n",
    "**Harvard Applicant Scenario**\n",
    "\n",
    "$2400 = \\frac{11.8842 + 0.0997*X_3}{0.0051}$\n",
    "\n",
    "$2400(0.0051) = 11.8842 + 0.0997*X_3$\n",
    "\n",
    "$12.24 = 11.8842 + 0.0997*X_3$\n",
    "\n",
    "$0.3558 = 0.0997*X_3$\n",
    "\n",
    "$3.56 = X_3 $\n",
    "\n",
    "Thus, the range is $0 < X_3 < 3.56$ for a Harvard applicant to have a better than 50% chance of being admitted to Harvard, where $X_3$ represents the number of ap tests.\n"
   ]
  },
  {
   "cell_type": "markdown",
   "metadata": {},
   "source": [
    "<div class=\"highlight-box\" style=\"border: 1px solid #ffcccb; background-color: #ffcccb; height: 5px;\"></div>"
   ]
  },
  {
   "cell_type": "markdown",
   "metadata": {
    "cell_id": "0a790850-87c6-4f46-b89e-048a2295c92b",
    "colab_type": "text",
    "deletable": false,
    "editable": false,
    "id": "IGFtXJmQap2q"
   },
   "source": [
    "<!-- END QUESTION -->\n",
    "\n",
    "<!-- BEGIN QUESTION -->\n",
    "\n",
    "<div class='exercise-r'>\n",
    "\n",
    "**Q3.5** Create two separate scatterplots (one for Harvard applicants and one for Yale applicants) with the predictor `test_score` on the y-axis and `ap` on the x-axis where `admitted` is color-coded and the marker denotes train vs. test data.  Then add the appropriate classification boundary from the previous question (Q3.4).  Compare these two plots (including both the location of the boundaries and where the points lie around these boundaries).\n",
    "\n",
    "**NOTE:** As always, please be certain (a) your plot is titled, (b) everything is clearly labeled, and (c) the plot itself is formatted in a manner that makes it easy to read and interpret. It will likely take some careful work here to generate plots with data points that are clear and easy to see. You might try 'dithering' the points with a random offset so they are not all on top of one another.\n",
    "    \n",
    "</div>"
   ]
  },
  {
   "cell_type": "markdown",
   "metadata": {},
   "source": [
    "<div class=\"highlight-box\" style=\"border: 1px solid #ffcccb; background-color: #ffcccb; height: 5px;\"></div>"
   ]
  },
  {
   "cell_type": "markdown",
   "metadata": {},
   "source": [
    "There is a lot to be told by comparing the decision boundaries of the respective graphs. \n",
    "\n",
    "For **Harvard Applicants** the decision boundary is adaptive to both ap and test score. I can see this because the decision boundary trends upwards as ap score increases (there is both rise and run in this line). Both these features are relied upon to a certain equal extent determine admission into the university.\n",
    "\n",
    "For **Yale Applicants** the decision boundary is simpler and largely based on test score. I can see this because the decision boundary is pretty much a horizontal line at the test score value of 2400. This indicates that test scores is a more important factor for Yale admissions across all ap scores.\n",
    "\n",
    "\n"
   ]
  },
  {
   "cell_type": "markdown",
   "metadata": {},
   "source": [
    "<div class=\"highlight-box\" style=\"border: 1px solid #ffcccb; background-color: #ffcccb; height: 5px;\"></div>"
   ]
  },
  {
   "cell_type": "code",
   "execution_count": 358,
   "metadata": {},
   "outputs": [
    {
     "name": "stderr",
     "output_type": "stream",
     "text": [
      "/var/folders/yq/5p00hdm16xsb4kbmhwk9rcx80000gn/T/ipykernel_2128/2039280651.py:25: SettingWithCopyWarning: \n",
      "A value is trying to be set on a copy of a slice from a DataFrame.\n",
      "Try using .loc[row_indexer,col_indexer] = value instead\n",
      "\n",
      "See the caveats in the documentation: https://pandas.pydata.org/pandas-docs/stable/user_guide/indexing.html#returning-a-view-versus-a-copy\n",
      "  data['ap'] += np.random.normal(0, noise_level, size=len(data))\n",
      "/var/folders/yq/5p00hdm16xsb4kbmhwk9rcx80000gn/T/ipykernel_2128/2039280651.py:26: SettingWithCopyWarning: \n",
      "A value is trying to be set on a copy of a slice from a DataFrame.\n",
      "Try using .loc[row_indexer,col_indexer] = value instead\n",
      "\n",
      "See the caveats in the documentation: https://pandas.pydata.org/pandas-docs/stable/user_guide/indexing.html#returning-a-view-versus-a-copy\n",
      "  data['test_score'] += np.random.normal(0, noise_level, size=len(data))\n"
     ]
    },
    {
     "data": {
      "image/png": "[encoded data removed]",
      "text/plain": [
       "<Figure size 1000x600 with 1 Axes>"
      ]
     },
     "metadata": {},
     "output_type": "display_data"
    },
    {
     "data": {
      "image/png": "[encoded data removed]",
      "text/plain": [
       "<Figure size 1000x600 with 1 Axes>"
      ]
     },
     "metadata": {},
     "output_type": "display_data"
    }
   ],
   "source": [
    "combined_X = pd.concat([X_train, X_test])\n",
    "combined_y = pd.concat([y_train, y_test])\n",
    "df = pd.concat([combined_X, combined_y.rename(\"admitted\")], axis=1)\n",
    "\n",
    "# add a 'dataset' column to indicate whether a point is in train or test set\n",
    "df['dataset'] = ['train'] * len(X_train) + ['test'] * len(X_test)\n",
    "\n",
    "# separate Harvard and Yale data\n",
    "harvard_applicant_data = df[df['harvard'] == 1]\n",
    "yale_applicant_data = df[df['harvard'] == 0]\n",
    "\n",
    "# $X_2 > \\frac{11.8842 + 0.0997*X_3}{0.0051}$\n",
    "# $X_2 >  \\frac{9.8464 - 0.0048*X_3}{0.0039}$\n",
    "\n",
    "\n",
    "def boundary_value (ap_values, harvard):\n",
    "    if harvard == 1:\n",
    "        boundary =  (11.8842+0.0997*ap_values)/0.0051\n",
    "    else:\n",
    "        boundary = (9.8464 - 0.0048*ap_values)/0.0039\n",
    "    return boundary\n",
    "\n",
    "# dithering to offset the data :GPT CODE I DIDNT KNOW HOW TO CODE THIS \n",
    "def add_dithering(data, noise_level=0.1):\n",
    "    data['ap'] += np.random.normal(0, noise_level, size=len(data))\n",
    "    data['test_score'] += np.random.normal(0, noise_level, size=len(data))\n",
    "    return data\n",
    "\n",
    "\n",
    "harvard_applicant_data = add_dithering(harvard_applicant_data)\n",
    "yale_applicant_data = add_dithering(yale_applicant_data)\n",
    "\n",
    "def plot_with_boundary(data, title, harvard):\n",
    "    plt.figure(figsize=(10, 6))\n",
    "    \n",
    "    # scatter plot with color-coded 'admitted' and marker for train/test\n",
    "    sns.scatterplot(\n",
    "        data=data, x='ap', y='test_score', hue='admitted', alpha = 0.45, style='dataset',\n",
    "        palette={1: 'blue', 0: 'red'}, markers={'train': 'o', 'test': 'X'}, s=100\n",
    "    )\n",
    "    \n",
    "    # boundary line\n",
    "    ap_values = np.linspace(data['ap'].min(), data['ap'].max(), 100)\n",
    "    boundary_test_score = boundary_value(ap_values, harvard)\n",
    "    \n",
    "    # Plotting\n",
    "    plt.plot(ap_values, boundary_test_score, 'k--', label='Classification Boundary')\n",
    "    plt.title(title)\n",
    "    plt.xlabel(\"AP Score\")\n",
    "    plt.ylabel(\"Test Score\")\n",
    "    plt.legend()\n",
    "    plt.show()\n",
    "\n",
    "# harvard boundary graph\n",
    "plot_with_boundary(harvard_applicant_data, \"Harvard Applicants\", harvard=1)\n",
    "\n",
    "# Yale boundary graph\n",
    "plot_with_boundary(yale_applicant_data, \"Yale Applicants\", harvard=0)"
   ]
  },
  {
   "cell_type": "markdown",
   "metadata": {
    "cell_id": "0a790850-87c6-4f46-b89e-048a2295c92b",
    "colab_type": "text",
    "deletable": false,
    "editable": false,
    "id": "IGFtXJmQap2q"
   },
   "source": [
    "<!-- END QUESTION -->\n",
    "\n",
    "<div class='exercise-r'>\n",
    "\n",
    "**Q3.6** Fit a logistic regression model (call it `logit3_6`) to predict `admitted` from 4 predictors: `[\"harvard\", \"test_score\", \"female\", \"minority\"]` along with 2 interaction terms: `harvard` with `female` and `harvard` with `minority`. \n",
    "\n",
    " - Store the train and mean cv accuracies in `acc_train_logit3_6` and `acc_cv_logit3_6`.\n",
    " - Display the accuracy scores.\n",
    "</div>"
   ]
  },
  {
   "cell_type": "code",
   "execution_count": 359,
   "metadata": {
    "deletable": false,
    "editable": false
   },
   "outputs": [],
   "source": [
    "# Provided code in Q3.7 will assume this order of predictors\n",
    "logit3_6_predictors = [\"harvard\",\n",
    "                       \"test_score\",\n",
    "                       \"female\",\n",
    "                       \"minority\",\n",
    "                       \"harvard_female\",\n",
    "                       \"harvard_minority\"\n",
    "                      ]"
   ]
  },
  {
   "cell_type": "code",
   "execution_count": 360,
   "metadata": {
    "tags": []
   },
   "outputs": [],
   "source": [
    "# your code here\n",
    "\n",
    "harvard_female = X_train['harvard']*X_train['female']\n",
    "harvard_minority = X_train['harvard']*X_train['minority']\n",
    "\n",
    "# X_train = X_train\n",
    "\n",
    "X_train['harvard_female'] = harvard_female\n",
    "X_train['harvard_minority'] = harvard_minority\n",
    "\n",
    "lr = LogisticRegression(random_state = 109, penalty = None, max_iter = 1000)\n",
    "\n",
    "logit3_6 = lr.fit(X_train[logit3_6_predictors], y_train)\n",
    "y_hat_train = logit3_6.predict(X_train[logit3_6_predictors])\n",
    "\n",
    "scores = cross_val_score(logit3_6, X_train[logit3_6_predictors], y_train, cv = 10)\n",
    "\n",
    "acc_train_logit3_6 = accuracy_score(y_train, y_hat_train)\n",
    "acc_cv_logit3_6 = scores.mean()"
   ]
  },
  {
   "cell_type": "code",
   "execution_count": 361,
   "metadata": {
    "deletable": false,
    "editable": false
   },
   "outputs": [
    {
     "name": "stdout",
     "output_type": "stream",
     "text": [
      "\n",
      "The classification accuracies for 'logit3_6' are:\n",
      "\n",
      "\tTrain\t0.7353\n",
      "\tCV\t0.7279\n"
     ]
    }
   ],
   "source": [
    "print(\n",
    "    \"\\nThe classification accuracies for 'logit3_6' are:\"\n",
    "    \"\\n\\n\\tTrain\\t{:.4f}\\n\\tCV\\t{:.4f}\"\n",
    "    .format(acc_train_logit3_6, acc_cv_logit3_6)\n",
    ")"
   ]
  },
  {
   "cell_type": "code",
   "execution_count": 362,
   "metadata": {
    "deletable": false,
    "editable": false
   },
   "outputs": [
    {
     "data": {
      "text/html": [
       "<p><strong><pre style='display: inline;'>q3.6</pre></strong> passed! 🌈</p>"
      ],
      "text/plain": [
       "q3.6 results: All test cases passed!"
      ]
     },
     "execution_count": 362,
     "metadata": {},
     "output_type": "execute_result"
    }
   ],
   "source": [
    "grader.check(\"q3.6\")"
   ]
  },
  {
   "cell_type": "markdown",
   "metadata": {
    "cell_id": "0a790850-87c6-4f46-b89e-048a2295c92b",
    "colab_type": "text",
    "deletable": false,
    "editable": false,
    "id": "IGFtXJmQap2q"
   },
   "source": [
    "<!-- BEGIN QUESTION -->\n",
    "\n",
    "<div class='exercise-r'>\n",
    "\n",
    "**Q3.7** Interpret the coefficients associated with `female` and `minority` (the two main effects AND the two interaction terms).\n",
    "    \n",
    "</div>"
   ]
  },
  {
   "cell_type": "code",
   "execution_count": 363,
   "metadata": {
    "deletable": false,
    "editable": false
   },
   "outputs": [
    {
     "name": "stdout",
     "output_type": "stream",
     "text": [
      "The intercept and coefficients for the 'logit3_6' model are:\n",
      "\n",
      "\tintercept           -12.0517\n",
      "\tharvard             0.2761\n",
      "\ttest_score          0.0049\n",
      "\tfemale              -0.1558\n",
      "\tminority            1.0961\n",
      "\tharvard_female      0.2378\n",
      "\tharvard_minority    -0.6213\n"
     ]
    }
   ],
   "source": [
    "# Display results\n",
    "logit3_6_intercept = np.array(logit3_6.intercept_).flatten()[0]\n",
    "logit3_6_coefs = logit3_6.coef_.flatten()\n",
    "\n",
    "print(\n",
    "    \"The intercept and coefficients for the 'logit3_6' model are:\"\n",
    "    \"\\n\\n\\t{:<20}{:.4f}\".format(\n",
    "        \"intercept\", logit3_6_intercept\n",
    "    )\n",
    ")\n",
    "\n",
    "for predictor, coef in zip(logit3_6_predictors, logit3_6_coefs):\n",
    "    print(\"\\t{:<20}{:.4f}\".format(predictor, coef))"
   ]
  },
  {
   "cell_type": "markdown",
   "metadata": {},
   "source": [
    "<div class=\"highlight-box\" style=\"border: 1px solid #ffcccb; background-color: #ffcccb; height: 5px;\"></div>"
   ]
  },
  {
   "cell_type": "markdown",
   "metadata": {},
   "source": [
    "$B_3 = -0.1558$, which is the corresponding coefficient for females. $e^{-0.1558}$ = 0.885, which means that if an applicant is a female, holding all other variables constant, there is an associated 0.885X increase in their odds of admittance (so they are less likely to be admitted\n",
    "\n",
    "$B_4 = 1.0961$, which is the associated minority coefficient. $e^{1.0961} = 2.99$, which means that if an applicant  is a minority, holding all other variables constant, they have a 2.99X increase in their odds. \n",
    "\n",
    "$B_5 = 0.2378$, the associated interaction coefficient between Harvard and females. $e^{0.2378} = 1.268$. This means that if an applicant applied to Harvard and is a female, holding all the other variables constant, there is a 1.268X increase in their odds of admittance\n",
    "\n",
    "$B_6 = -0.6213$, the associated interaction coefficient between Harvard and minority. $e^{-0.6213} = 0.53$. This means that if an applicant applied to Harvard and is a minority, holding all other variables constant, there is a 0.53X increase in their odds of admittance (so they are less likely to be admitted). "
   ]
  },
  {
   "cell_type": "markdown",
   "metadata": {},
   "source": [
    "<div class=\"highlight-box\" style=\"border: 1px solid #ffcccb; background-color: #ffcccb; height: 5px;\"></div>"
   ]
  },
  {
   "cell_type": "markdown",
   "metadata": {
    "cell_id": "0a790850-87c6-4f46-b89e-048a2295c92b",
    "colab_type": "text",
    "deletable": false,
    "editable": false,
    "id": "IGFtXJmQap2q"
   },
   "source": [
    "<!-- END QUESTION -->\n",
    "\n",
    "<!-- BEGIN QUESTION -->\n",
    "\n",
    "<div class='exercise-r'>\n",
    "\n",
    "**Q3.8** Based on this model, how does it appear that Harvard and Yale compare in admitting women and minorities?  Given what we've seen in our previous analysis, what might be some reasons we have to doubt the interpretation of the model's coefficients as reflecting the truth?\n",
    "\n",
    "</div>"
   ]
  },
  {
   "cell_type": "markdown",
   "metadata": {},
   "source": [
    "<div class=\"highlight-box\" style=\"border: 1px solid #ffcccb; background-color: #ffcccb; height: 5px;\"></div>"
   ]
  },
  {
   "cell_type": "markdown",
   "metadata": {},
   "source": [
    "Harvard seems to favor women in their application. If one is a Harvard applicant and a female, then $X_1$ and $X_3$ have observed changes. Thus, I must add their beta coefficients together. $B_1 + B_3 = 0.2761 - 0.1558 = 0.1203$. $e^{0.1203} = 1.127 $  which corresponds to a 1.127X increase in an applicants odds of being admitted. Harvard seems to favor minorities in their application as well, even more so than being a female. \n",
    "\n",
    "If one is a Harvard applicant and a minority, then $X_1$ and $X_6$ have observed changes. Thus, I must add their beta coefficients together. $0.2761 + 1.0961 = 1.3722$. $e^{1.3722} = 3.944$ which corresponds to a 3.944X increase in applicant odds of being admitted. \n",
    "\n",
    "Yale seems to lessen the importance of being a female applicant. Being a female applicant to Yale worsens your chances of admittance. As $X_1 = 0$, only a change is observed in $X_3$. $e^{-0.1558} = 0.855 $ which means there is a decreased chance of being admitted to Yale if you are a female.\n",
    "\n",
    "If one is a minority applicant at Yale, there is an observed change in the $X_4$ variable. $e^{1.0961} = 2.99$, which means a 2.99X increase in the odds of acceptance. So, it seems that Yale favors being a minority applicant. \n",
    "\n",
    "One reason to doubt the interpretation of the model's coefficients as reflecting the truth is the rarity of the sampled data. As I said, applicants with better application statistics are more likely to volunteer to show the world their statistics. **This is called self-report bias**.Therefore, the data is representative of a more likely-to-be-admitted dataset, and thus our coefficients may be off mark in terms of reflecting the truth.\n"
   ]
  },
  {
   "cell_type": "markdown",
   "metadata": {},
   "source": [
    "<div class=\"highlight-box\" style=\"border: 1px solid #ffcccb; background-color: #ffcccb; height: 5px;\"></div>"
   ]
  },
  {
   "cell_type": "markdown",
   "metadata": {
    "deletable": false,
    "editable": false
   },
   "source": [
    "<!-- END QUESTION -->\n",
    "\n",
    "---"
   ]
  },
  {
   "cell_type": "markdown",
   "metadata": {},
   "source": [
    "<a id=\"part4\"></a>\n",
    "\n",
    "## <div class='exercise'>Question 4: Building predictive models for admitted</div>\n",
    "\n",
    "[Return to contents](#contents)"
   ]
  },
  {
   "cell_type": "markdown",
   "metadata": {
    "cell_id": "0a790850-87c6-4f46-b89e-048a2295c92b",
    "colab_type": "text",
    "deletable": false,
    "editable": false,
    "id": "IGFtXJmQap2q"
   },
   "source": [
    "<div class='exercise-r'>\n",
    "\n",
    "**Q4.1** You were instructed to NOT scale predictors in the prior sections above. The primary reason for this was to focus instead on the interpretability of our logistic regression coefficients. However, as we're sure you noticed, the numeric scale among our different predictors varies greatly (i.e. `test_score` values are in the 1,000's while others are much, much smaller). In practice, we might want to put our predictors all on a similar scale, particularly for regularized regression and/or distance-based algorithms such as $k$-NN classification. \n",
    "\n",
    "1. Explain why scaling under these circumstances might be important.\n",
    "2. Define a list of all non-binary predictors from the original set of 12 predictors, calling it `non_binary_predictors`.\n",
    "3. Apply standardized scaling to all of these **non-binary** predictors. **For the sake of consistency, fit your scaler on just the training data. Then use it to transform both train and test.**\n",
    "\n",
    "**IMPORTANT:** These scaled predictors should be used instead of the original unscaled versions of the predictors for the remainder of this problem set. Tests from this point on assume that `X_train` and `X_test` have been standardized with the approach outlined above. \n",
    "\n",
    "</div>"
   ]
  },
  {
   "cell_type": "markdown",
   "metadata": {},
   "source": [
    "**Scaling for logistic regression is important** because it helps ease the gradient descent for minimizing the Binary Cross Entropy (BCE), which in turn finds the optimal beta values for the model. If features have widely different scales, their beta values will also vary. Thus, the gradient descent process for BCE can become arduous and drawn out. The optimization process is smoother if the features are on the same scale. \n",
    "\n",
    "Also each beta value represents the effect of a one-unit change in that feature on the log-odds of the outcome. When features are on very different scales, a one-unit change in a feature measured in thousands (e.g., test_score) vastly differs from a one-unit change in a feature measured in ones (e.g., avg_ap).\n",
    "\n",
    "For kNN classification, scaling is vital b/c the model uses Euclidean distance to find neighbors. If one has widely different scales, one of these scales will dominate in terms of finding the nearest neighbor. One wants the variables to be treated equally by the model. "
   ]
  },
  {
   "cell_type": "code",
   "execution_count": 364,
   "metadata": {
    "tags": []
   },
   "outputs": [],
   "source": [
    "# your code here\n",
    "# X_train.head()\n",
    "non_binary_predictors = ['test_score', 'ap', 'avg_ap', 'sat_subjects', 'gpa']\n",
    "# X_train[non_binary_predictors]\n",
    "\n",
    "# X_train_OG = X_train\n",
    "# X_test_OG = X_test\n",
    "\n",
    "# X_train_OG = X_train_OG.copy()\n",
    "# X_test_OG = X_test_OG.copy()\n",
    "\n",
    "# apply standard scaler to non-binary predictors\n",
    "scaler = StandardScaler()\n",
    "scaler.fit(X_train[non_binary_predictors])\n",
    "\n",
    "X_train[non_binary_predictors] = scaler.transform(X_train[non_binary_predictors])\n",
    "X_test[non_binary_predictors] = scaler.transform(X_test[non_binary_predictors])\n",
    "\n",
    "# scaler.get_feature_names_out()\n",
    "# X_train\n",
    "# X_train = pd.DataFrame(X_train, columns = scaler.get_feature_names_out())\n",
    "# X_test = pd.DataFrame(X_test, columns = scaler.get_feature_names_out()) \n"
   ]
  },
  {
   "cell_type": "code",
   "execution_count": 365,
   "metadata": {
    "deletable": false
   },
   "outputs": [
    {
     "data": {
      "text/html": [
       "<div>\n",
       "<style scoped>\n",
       "    .dataframe tbody tr th:only-of-type {\n",
       "        vertical-align: middle;\n",
       "    }\n",
       "\n",
       "    .dataframe tbody tr th {\n",
       "        vertical-align: top;\n",
       "    }\n",
       "\n",
       "    .dataframe thead th {\n",
       "        text-align: right;\n",
       "    }\n",
       "</style>\n",
       "<table border=\"1\" class=\"dataframe\">\n",
       "  <thead>\n",
       "    <tr style=\"text-align: right;\">\n",
       "      <th></th>\n",
       "      <th>test_score</th>\n",
       "      <th>ap</th>\n",
       "      <th>avg_ap</th>\n",
       "      <th>sat_subjects</th>\n",
       "      <th>gpa</th>\n",
       "      <th>female</th>\n",
       "      <th>minority</th>\n",
       "      <th>international</th>\n",
       "      <th>sports</th>\n",
       "      <th>early_app</th>\n",
       "      <th>alumni</th>\n",
       "      <th>harvard</th>\n",
       "      <th>harvard_test_score</th>\n",
       "      <th>harvard_ap</th>\n",
       "      <th>harvard_female</th>\n",
       "      <th>harvard_minority</th>\n",
       "    </tr>\n",
       "  </thead>\n",
       "  <tbody>\n",
       "    <tr>\n",
       "      <th>count</th>\n",
       "      <td>1.496e+03</td>\n",
       "      <td>1.496e+03</td>\n",
       "      <td>1.496e+03</td>\n",
       "      <td>1.496e+03</td>\n",
       "      <td>1.496e+03</td>\n",
       "      <td>1496.000</td>\n",
       "      <td>1496.000</td>\n",
       "      <td>1496.000</td>\n",
       "      <td>1496.000</td>\n",
       "      <td>1496.000</td>\n",
       "      <td>1496.000</td>\n",
       "      <td>1496.000</td>\n",
       "      <td>1496.000</td>\n",
       "      <td>1496.000</td>\n",
       "      <td>1496.000</td>\n",
       "      <td>1496.000</td>\n",
       "    </tr>\n",
       "    <tr>\n",
       "      <th>mean</th>\n",
       "      <td>5.343e-16</td>\n",
       "      <td>3.800e-17</td>\n",
       "      <td>1.639e-16</td>\n",
       "      <td>1.615e-16</td>\n",
       "      <td>-4.180e-16</td>\n",
       "      <td>0.511</td>\n",
       "      <td>0.215</td>\n",
       "      <td>0.061</td>\n",
       "      <td>0.035</td>\n",
       "      <td>0.172</td>\n",
       "      <td>0.046</td>\n",
       "      <td>0.519</td>\n",
       "      <td>1133.842</td>\n",
       "      <td>1.780</td>\n",
       "      <td>0.255</td>\n",
       "      <td>0.118</td>\n",
       "    </tr>\n",
       "    <tr>\n",
       "      <th>std</th>\n",
       "      <td>1.000e+00</td>\n",
       "      <td>1.000e+00</td>\n",
       "      <td>1.000e+00</td>\n",
       "      <td>1.000e+00</td>\n",
       "      <td>1.000e+00</td>\n",
       "      <td>0.500</td>\n",
       "      <td>0.411</td>\n",
       "      <td>0.239</td>\n",
       "      <td>0.185</td>\n",
       "      <td>0.378</td>\n",
       "      <td>0.210</td>\n",
       "      <td>0.500</td>\n",
       "      <td>1099.344</td>\n",
       "      <td>2.402</td>\n",
       "      <td>0.436</td>\n",
       "      <td>0.323</td>\n",
       "    </tr>\n",
       "    <tr>\n",
       "      <th>min</th>\n",
       "      <td>-6.125e+00</td>\n",
       "      <td>-1.470e+00</td>\n",
       "      <td>-2.159e+00</td>\n",
       "      <td>-2.262e+00</td>\n",
       "      <td>-9.703e+00</td>\n",
       "      <td>0.000</td>\n",
       "      <td>0.000</td>\n",
       "      <td>0.000</td>\n",
       "      <td>0.000</td>\n",
       "      <td>0.000</td>\n",
       "      <td>0.000</td>\n",
       "      <td>0.000</td>\n",
       "      <td>0.000</td>\n",
       "      <td>0.000</td>\n",
       "      <td>0.000</td>\n",
       "      <td>0.000</td>\n",
       "    </tr>\n",
       "    <tr>\n",
       "      <th>25%</th>\n",
       "      <td>-4.540e-01</td>\n",
       "      <td>-6.091e-01</td>\n",
       "      <td>-1.203e-01</td>\n",
       "      <td>-6.917e-01</td>\n",
       "      <td>-2.008e-01</td>\n",
       "      <td>0.000</td>\n",
       "      <td>0.000</td>\n",
       "      <td>0.000</td>\n",
       "      <td>0.000</td>\n",
       "      <td>0.000</td>\n",
       "      <td>0.000</td>\n",
       "      <td>0.000</td>\n",
       "      <td>0.000</td>\n",
       "      <td>0.000</td>\n",
       "      <td>0.000</td>\n",
       "      <td>0.000</td>\n",
       "    </tr>\n",
       "    <tr>\n",
       "      <th>50%</th>\n",
       "      <td>1.958e-01</td>\n",
       "      <td>-1.787e-01</td>\n",
       "      <td>4.205e-01</td>\n",
       "      <td>9.342e-02</td>\n",
       "      <td>3.612e-01</td>\n",
       "      <td>1.000</td>\n",
       "      <td>0.000</td>\n",
       "      <td>0.000</td>\n",
       "      <td>0.000</td>\n",
       "      <td>0.000</td>\n",
       "      <td>0.000</td>\n",
       "      <td>1.000</td>\n",
       "      <td>1825.000</td>\n",
       "      <td>0.000</td>\n",
       "      <td>0.000</td>\n",
       "      <td>0.000</td>\n",
       "    </tr>\n",
       "    <tr>\n",
       "      <th>75%</th>\n",
       "      <td>7.275e-01</td>\n",
       "      <td>6.822e-01</td>\n",
       "      <td>6.909e-01</td>\n",
       "      <td>9.342e-02</td>\n",
       "      <td>6.167e-01</td>\n",
       "      <td>1.000</td>\n",
       "      <td>0.000</td>\n",
       "      <td>0.000</td>\n",
       "      <td>0.000</td>\n",
       "      <td>0.000</td>\n",
       "      <td>0.000</td>\n",
       "      <td>1.000</td>\n",
       "      <td>2230.000</td>\n",
       "      <td>3.000</td>\n",
       "      <td>1.000</td>\n",
       "      <td>0.000</td>\n",
       "    </tr>\n",
       "    <tr>\n",
       "      <th>max</th>\n",
       "      <td>1.259e+00</td>\n",
       "      <td>1.543e+00</td>\n",
       "      <td>7.533e-01</td>\n",
       "      <td>2.449e+00</td>\n",
       "      <td>6.167e-01</td>\n",
       "      <td>1.000</td>\n",
       "      <td>1.000</td>\n",
       "      <td>1.000</td>\n",
       "      <td>1.000</td>\n",
       "      <td>1.000</td>\n",
       "      <td>1.000</td>\n",
       "      <td>1.000</td>\n",
       "      <td>2400.000</td>\n",
       "      <td>7.000</td>\n",
       "      <td>1.000</td>\n",
       "      <td>1.000</td>\n",
       "    </tr>\n",
       "  </tbody>\n",
       "</table>\n",
       "</div>"
      ],
      "text/plain": [
       "       test_score         ap     avg_ap  sat_subjects        gpa    female  \\\n",
       "count   1.496e+03  1.496e+03  1.496e+03     1.496e+03  1.496e+03  1496.000   \n",
       "mean    5.343e-16  3.800e-17  1.639e-16     1.615e-16 -4.180e-16     0.511   \n",
       "std     1.000e+00  1.000e+00  1.000e+00     1.000e+00  1.000e+00     0.500   \n",
       "min    -6.125e+00 -1.470e+00 -2.159e+00    -2.262e+00 -9.703e+00     0.000   \n",
       "25%    -4.540e-01 -6.091e-01 -1.203e-01    -6.917e-01 -2.008e-01     0.000   \n",
       "50%     1.958e-01 -1.787e-01  4.205e-01     9.342e-02  3.612e-01     1.000   \n",
       "75%     7.275e-01  6.822e-01  6.909e-01     9.342e-02  6.167e-01     1.000   \n",
       "max     1.259e+00  1.543e+00  7.533e-01     2.449e+00  6.167e-01     1.000   \n",
       "\n",
       "       minority  international    sports  early_app    alumni   harvard  \\\n",
       "count  1496.000       1496.000  1496.000   1496.000  1496.000  1496.000   \n",
       "mean      0.215          0.061     0.035      0.172     0.046     0.519   \n",
       "std       0.411          0.239     0.185      0.378     0.210     0.500   \n",
       "min       0.000          0.000     0.000      0.000     0.000     0.000   \n",
       "25%       0.000          0.000     0.000      0.000     0.000     0.000   \n",
       "50%       0.000          0.000     0.000      0.000     0.000     1.000   \n",
       "75%       0.000          0.000     0.000      0.000     0.000     1.000   \n",
       "max       1.000          1.000     1.000      1.000     1.000     1.000   \n",
       "\n",
       "       harvard_test_score  harvard_ap  harvard_female  harvard_minority  \n",
       "count            1496.000    1496.000        1496.000          1496.000  \n",
       "mean             1133.842       1.780           0.255             0.118  \n",
       "std              1099.344       2.402           0.436             0.323  \n",
       "min                 0.000       0.000           0.000             0.000  \n",
       "25%                 0.000       0.000           0.000             0.000  \n",
       "50%              1825.000       0.000           0.000             0.000  \n",
       "75%              2230.000       3.000           1.000             0.000  \n",
       "max              2400.000       7.000           1.000             1.000  "
      ]
     },
     "execution_count": 365,
     "metadata": {},
     "output_type": "execute_result"
    }
   ],
   "source": [
    "# preview summary stats after standardizing\n",
    "X_train.describe()"
   ]
  },
  {
   "cell_type": "markdown",
   "metadata": {},
   "source": [
    "**The mean for all the non-binary predictions is incredibly close to 0. The std is 1. I am not sure why I am receiving this error. A TF checked this and said I am correct in my code!**"
   ]
  },
  {
   "cell_type": "code",
   "execution_count": 366,
   "metadata": {
    "deletable": false,
    "editable": false
   },
   "outputs": [
    {
     "data": {
      "text/html": [
       "<p><strong><pre style='display: inline;'>q4.1</pre></strong> passed! 💯</p>"
      ],
      "text/plain": [
       "q4.1 results: All test cases passed!"
      ]
     },
     "execution_count": 366,
     "metadata": {},
     "output_type": "execute_result"
    }
   ],
   "source": [
    "grader.check(\"q4.1\")"
   ]
  },
  {
   "cell_type": "markdown",
   "metadata": {
    "cell_id": "0a790850-87c6-4f46-b89e-048a2295c92b",
    "colab_type": "text",
    "deletable": false,
    "editable": false,
    "id": "IGFtXJmQap2q"
   },
   "source": [
    "<!-- BEGIN QUESTION -->\n",
    "\n",
    "<div class='exercise-r'>\n",
    "\n",
    "**Q4.2** Fit a well-tuned $k$-NN classification model with main effects of all 12 predictors in it (call it `knn_model`).  Use `ks = range(1, 50, 2)` and 10-fold cross-validation with classification accuracy as the scoring metric. Plot, on a single set of axes, your resulting cross-validation mean training and mean validation scores at each value $k$. Then, store your chosen $k$ in `best_k`, the accuracy on the best model when refit on all the training data in `knn_train_acc`, and the mean 10-fold CV accuracy of the best model in `knn_cv_acc`.\n",
    "    \n",
    "</div>"
   ]
  },
  {
   "cell_type": "code",
   "execution_count": 367,
   "metadata": {
    "tags": []
   },
   "outputs": [],
   "source": [
    "from sklearn.model_selection import train_test_split, cross_validate, cross_val_score,\\\n",
    "                                    cross_val_predict, KFold, GridSearchCV\n",
    "# X_train_new = X_train.iloc[:,1:]\n",
    "predictors = ['test_score', 'ap', 'avg_ap', 'sat_subjects', 'gpa', 'female', 'minority', 'international', 'sports', 'early_app', 'alumni', 'harvard']\n",
    "\n",
    "ks = range(1, 50, 2)\n",
    "\n",
    "cv_folds = 10\n",
    "\n",
    "knn_model = KNeighborsClassifier()\n",
    "param_grid = {'n_neighbors': range(1, 50, 2)}\n",
    "\n",
    "kf = KFold(n_splits=cv_folds, shuffle=True, random_state=109)\n",
    "#grid_search code from lab 7\n",
    "grid_search = GridSearchCV(\n",
    "    estimator=knn_model,\n",
    "    param_grid=param_grid,\n",
    "    cv=kf,\n",
    "    scoring='accuracy', return_train_score = True\n",
    ")\n",
    "#fit the model\n",
    "grid_search.fit(X_train[predictors], y_train)\n",
    "\n",
    "best_k = grid_search.best_params_['n_neighbors']\n",
    "knn_train_acc = grid_search.cv_results_['mean_train_score'][grid_search.best_index_]\n",
    "knn_cv_acc = grid_search.best_score_"
   ]
  },
  {
   "cell_type": "code",
   "execution_count": 368,
   "metadata": {
    "tags": []
   },
   "outputs": [
    {
     "data": {
      "image/png": "[encoded data removed]",
      "text/plain": [
       "<Figure size 1000x600 with 1 Axes>"
      ]
     },
     "metadata": {},
     "output_type": "display_data"
    }
   ],
   "source": [
    "# Plot cross-validation results\n",
    "# your code here\n",
    "#convert the results into a df to have easier time plotting\n",
    "cv_results = pd.DataFrame(grid_search.cv_results_)\n",
    "\n",
    "#k values (plotted on x axis)\n",
    "k_values = cv_results['param_n_neighbors']\n",
    "#mean training score for each k value\n",
    "mean_train_scores = cv_results['mean_train_score']\n",
    "#mean val score for each k value\n",
    "mean_validation_scores = cv_results['mean_test_score']\n",
    "std_train_scores = cv_results['std_train_score']\n",
    "std_validation_scores = cv_results['std_test_score']\n",
    "# gpt plotting code\n",
    "plt.figure(figsize=(10, 6))\n",
    "plt.plot(k_values, mean_train_scores, label='Mean Training Accuracy', marker='^', alpha = 0.45)\n",
    "plt.plot(k_values, mean_validation_scores, label='Mean Validation Accuracy', marker='o', alpha = 0.45)\n",
    "#adding std usign fill between \n",
    "plt.fill_between(k_values, mean_train_scores - 2 * std_train_scores, mean_train_scores + 2 * std_train_scores, \n",
    "                 color='blue', alpha=0.1, label='Training ±2 Std Dev')\n",
    "plt.fill_between(k_values, mean_validation_scores - 2 * std_validation_scores, mean_validation_scores + 2 * std_validation_scores, \n",
    "                 color='orange', alpha=0.1, label='Validation ±2 Std Dev')\n",
    "\n",
    "\n",
    "\n",
    "plt.xlabel('Number of Neighbors (k)')\n",
    "plt.ylabel('Accuracy')\n",
    "plt.title('Training and Validation Accuracy for Different k values in KNN')\n",
    "plt.legend()\n",
    "plt.show()\n"
   ]
  },
  {
   "cell_type": "code",
   "execution_count": 369,
   "metadata": {
    "deletable": false,
    "editable": false
   },
   "outputs": [
    {
     "name": "stdout",
     "output_type": "stream",
     "text": [
      "The classification accuracies for 'knn_model' where k=11 are:\n",
      "\n",
      "\tTrain\t0.7669\n",
      "\tCV\t0.7373\n"
     ]
    }
   ],
   "source": [
    "print(\n",
    "    \"The classification accuracies for 'knn_model' where k={} \"\n",
    "    \"are:\\n\\n\\tTrain\\t{:.4f}\\n\\tCV\\t{:.4f}\"\n",
    "    .format(\n",
    "        best_k, knn_train_acc, knn_cv_acc\n",
    "    )\n",
    ")\n",
    "# create dict for storing test scores for each Q4 model\n",
    "q4_cv_scores = {\"knn_model\": knn_cv_acc}"
   ]
  },
  {
   "cell_type": "markdown",
   "metadata": {
    "cell_id": "0a790850-87c6-4f46-b89e-048a2295c92b",
    "colab_type": "text",
    "deletable": false,
    "editable": false,
    "id": "IGFtXJmQap2q"
   },
   "source": [
    "<!-- END QUESTION -->\n",
    "\n",
    "<div class='exercise-r'>\n",
    "\n",
    "**Q4.3** Fit the full logistic regression model (without penalty) with main effects of all 12 predictors in it (call it `logit_full`). Store the train mean cv accuracy in `logit_full_train_acc` and `logit_full_cv_acc`.\n",
    "\n",
    "**HINT:** If you have convergence warnings, increasing the maximum number of iterations will likely solve this issue.\n",
    "    \n",
    "</div>"
   ]
  },
  {
   "cell_type": "code",
   "execution_count": 370,
   "metadata": {
    "deletable": false,
    "editable": false
   },
   "outputs": [],
   "source": [
    "# The code that prints your results assumes\n",
    "# predictors were given to the model in this order\n",
    "predictor_list = [\n",
    "    \"test_score\", \"ap\", \"avg_ap\", \"sat_subjects\",\n",
    "    \"gpa\", \"female\", \"minority\", \"international\",\n",
    "    \"sports\", \"harvard\", \"early_app\", \"alumni\",\n",
    "]"
   ]
  },
  {
   "cell_type": "code",
   "execution_count": 371,
   "metadata": {
    "tags": []
   },
   "outputs": [],
   "source": [
    "# your code here\n",
    "lr = LogisticRegression(random_state = 109, penalty = None, max_iter = 210)\n",
    "logit_full = lr.fit(X_train[predictor_list], y_train)\n",
    "y_hat_train = lr.predict(X_train[predictor_list])\n",
    "\n",
    "scores = cross_val_score(logit_full, X_train[predictor_list], y_train, cv = 10)\n",
    "\n",
    "logit_full_train_acc = accuracy_score(y_train, y_hat_train)\n",
    "logit_full_cv_acc = scores.mean()"
   ]
  },
  {
   "cell_type": "code",
   "execution_count": 372,
   "metadata": {
    "tags": []
   },
   "outputs": [
    {
     "name": "stdout",
     "output_type": "stream",
     "text": [
      "The intercept and coefficients for the 'logit_full' model are:\n",
      "\n",
      "\tintercept           -1.7415\n",
      "\ttest_score          0.8893\n",
      "\tap                  -0.1284\n",
      "\tavg_ap              0.0008\n",
      "\tsat_subjects        -0.0976\n",
      "\tgpa                 0.0697\n",
      "\tfemale              -0.0175\n",
      "\tminority            0.8088\n",
      "\tinternational       0.3067\n",
      "\tsports              1.0388\n",
      "\tharvard             0.3949\n",
      "\tearly_app           0.6029\n",
      "\talumni              0.8664\n",
      "\n",
      "The classification accuracies for 'logit_full' are:\n",
      "\n",
      "\tTrain\t0.7447\n",
      "\tCV\t0.7373\n"
     ]
    }
   ],
   "source": [
    "# display your results\n",
    "print(\n",
    "    \"The intercept and coefficients for the 'logit_full' model are:\"\n",
    "    \"\\n\\n\\t{:<20}{:.4f}\".format(\n",
    "        \"intercept\", np.array(logit_full.intercept_).flatten()[0]\n",
    "    )\n",
    ")\n",
    "\n",
    "for predictor, coef in zip(predictor_list, logit_full.coef_.flatten()):\n",
    "    print(\"\\t{:<20}{:.4f}\".format(predictor, coef))\n",
    "\n",
    "print(\n",
    "    \"\\nThe classification accuracies for 'logit_full' are:\"\n",
    "    \"\\n\\n\\tTrain\\t{:.4f}\\n\\tCV\\t{:.4f}\"\n",
    "    .format(logit_full_train_acc, logit_full_cv_acc)\n",
    ")\n",
    "\n",
    "# store test score to dict for later use\n",
    "q4_cv_scores[\"logit_full\"] = logit_full_cv_acc"
   ]
  },
  {
   "cell_type": "code",
   "execution_count": 373,
   "metadata": {
    "deletable": false,
    "editable": false
   },
   "outputs": [
    {
     "data": {
      "text/html": [
       "<p><strong><pre style='display: inline;'>q4.3</pre></strong> passed! ✨</p>"
      ],
      "text/plain": [
       "q4.3 results: All test cases passed!"
      ]
     },
     "execution_count": 373,
     "metadata": {},
     "output_type": "execute_result"
    }
   ],
   "source": [
    "grader.check(\"q4.3\")"
   ]
  },
  {
   "cell_type": "markdown",
   "metadata": {
    "cell_id": "0a790850-87c6-4f46-b89e-048a2295c92b",
    "colab_type": "text",
    "deletable": false,
    "editable": false,
    "id": "IGFtXJmQap2q"
   },
   "source": [
    "<div class='exercise-r'>\n",
    "\n",
    "**Q4.4** Fit a well-tuned Lasso-like logistic regression model from all 12 predictors in it (call it `logit_lasso`). Use `Cs = np.logspace(-2, 2, 50)` and 10-fold cross-validation. Store the train and mean cross-validation accuracies in `logit_lasso_train_acc` and `logit_lasso_cv_acc`. For tuning a regularized logistic regression model, you should use `LogisticRegressionCV`. But again, to insure reproducability here, you should set `random_state=109`. \n",
    "\n",
    "**Hint:**\n",
    "- The default solver for SKLearn's logistic regression, 'lbfgs', is not compatible with LASSO regularization, so you will need to use a different solver here. See the [documentation](https://scikit-learn.org/stable/modules/generated/sklearn.linear_model.LogisticRegressionCV.html) for guidance.\n",
    "\n",
    "</div>"
   ]
  },
  {
   "cell_type": "code",
   "execution_count": 374,
   "metadata": {
    "tags": []
   },
   "outputs": [
    {
     "name": "stdout",
     "output_type": "stream",
     "text": [
      "[[0.72666667 0.72666667 0.72666667 0.72666667 0.72666667 0.72666667\n",
      "  0.72666667 0.72666667 0.72666667 0.72666667 0.72666667 0.72666667\n",
      "  0.72666667 0.72666667 0.72       0.72       0.72       0.71333333\n",
      "  0.71333333 0.71333333 0.71333333 0.71333333 0.72       0.72\n",
      "  0.72       0.72666667 0.72       0.72       0.72       0.72\n",
      "  0.72       0.72       0.72       0.72       0.72       0.72\n",
      "  0.72       0.72       0.72       0.72       0.72       0.72\n",
      "  0.72       0.72       0.72       0.72       0.72       0.72\n",
      "  0.72       0.72      ]\n",
      " [0.72666667 0.72666667 0.72666667 0.72666667 0.72666667 0.72666667\n",
      "  0.72666667 0.72666667 0.72666667 0.72666667 0.72666667 0.74666667\n",
      "  0.74       0.72666667 0.73333333 0.73333333 0.73333333 0.74\n",
      "  0.72       0.72       0.72       0.72       0.70666667 0.70666667\n",
      "  0.70666667 0.70666667 0.71333333 0.71333333 0.71333333 0.71333333\n",
      "  0.72       0.72       0.72       0.72       0.72       0.72\n",
      "  0.72       0.72       0.72       0.72       0.72       0.72\n",
      "  0.72       0.72       0.72       0.72       0.72       0.72\n",
      "  0.72       0.72      ]\n",
      " [0.72666667 0.72666667 0.72666667 0.72666667 0.72666667 0.72666667\n",
      "  0.72666667 0.72666667 0.72666667 0.72666667 0.72       0.72\n",
      "  0.72       0.71333333 0.72666667 0.74       0.74666667 0.75333333\n",
      "  0.75333333 0.75333333 0.74666667 0.75333333 0.75333333 0.75333333\n",
      "  0.75333333 0.75333333 0.75333333 0.75333333 0.75333333 0.75333333\n",
      "  0.74666667 0.74666667 0.74666667 0.74666667 0.74666667 0.74666667\n",
      "  0.74666667 0.74666667 0.74666667 0.74666667 0.74666667 0.74666667\n",
      "  0.74666667 0.74666667 0.74666667 0.74666667 0.74666667 0.74666667\n",
      "  0.74666667 0.74666667]\n",
      " [0.72666667 0.72666667 0.72666667 0.72666667 0.72666667 0.72666667\n",
      "  0.72666667 0.72666667 0.72666667 0.72666667 0.72666667 0.72666667\n",
      "  0.74       0.74       0.74       0.74       0.74       0.74666667\n",
      "  0.74666667 0.74666667 0.74666667 0.74666667 0.74666667 0.74666667\n",
      "  0.74666667 0.74666667 0.74       0.74       0.74       0.74\n",
      "  0.74       0.74       0.74       0.74       0.74       0.74\n",
      "  0.74       0.74       0.74       0.74       0.74       0.74\n",
      "  0.74       0.74       0.74       0.74       0.74       0.74\n",
      "  0.74       0.74      ]\n",
      " [0.73333333 0.73333333 0.73333333 0.73333333 0.73333333 0.73333333\n",
      "  0.73333333 0.73333333 0.73333333 0.73333333 0.73333333 0.74\n",
      "  0.75333333 0.76       0.76666667 0.74666667 0.76       0.76\n",
      "  0.75333333 0.75333333 0.74666667 0.74666667 0.74666667 0.74666667\n",
      "  0.74666667 0.74666667 0.74666667 0.74       0.74       0.74\n",
      "  0.74       0.74       0.74       0.74       0.74       0.74\n",
      "  0.74       0.74       0.74       0.74       0.74       0.74\n",
      "  0.74       0.74       0.74       0.74       0.74       0.74\n",
      "  0.74       0.74      ]\n",
      " [0.73333333 0.73333333 0.73333333 0.73333333 0.73333333 0.73333333\n",
      "  0.73333333 0.73333333 0.73333333 0.73333333 0.72666667 0.72666667\n",
      "  0.71333333 0.71333333 0.71333333 0.71333333 0.71333333 0.70666667\n",
      "  0.70666667 0.70666667 0.70666667 0.70666667 0.70666667 0.70666667\n",
      "  0.70666667 0.70666667 0.70666667 0.71333333 0.71333333 0.71333333\n",
      "  0.71333333 0.71333333 0.70666667 0.70666667 0.70666667 0.70666667\n",
      "  0.70666667 0.70666667 0.70666667 0.70666667 0.70666667 0.70666667\n",
      "  0.70666667 0.70666667 0.70666667 0.70666667 0.70666667 0.70666667\n",
      "  0.70666667 0.70666667]\n",
      " [0.73154362 0.73154362 0.73154362 0.73154362 0.73154362 0.73154362\n",
      "  0.73154362 0.73154362 0.73154362 0.73154362 0.73154362 0.73825503\n",
      "  0.73825503 0.73154362 0.73154362 0.73154362 0.73154362 0.73825503\n",
      "  0.75167785 0.75167785 0.75167785 0.75167785 0.75167785 0.75167785\n",
      "  0.75167785 0.75167785 0.75167785 0.75167785 0.75167785 0.75838926\n",
      "  0.75838926 0.75838926 0.75838926 0.75838926 0.75838926 0.75838926\n",
      "  0.75838926 0.75838926 0.75838926 0.75838926 0.75838926 0.75838926\n",
      "  0.75838926 0.75838926 0.76510067 0.76510067 0.76510067 0.76510067\n",
      "  0.76510067 0.76510067]\n",
      " [0.73154362 0.73154362 0.73154362 0.73154362 0.73154362 0.73154362\n",
      "  0.73154362 0.73154362 0.73154362 0.73154362 0.73154362 0.73825503\n",
      "  0.74496644 0.71812081 0.72483221 0.72483221 0.73154362 0.72483221\n",
      "  0.72483221 0.73154362 0.73154362 0.73154362 0.73154362 0.73154362\n",
      "  0.73154362 0.73154362 0.73154362 0.73154362 0.73154362 0.73825503\n",
      "  0.73825503 0.73825503 0.73825503 0.73825503 0.73825503 0.73825503\n",
      "  0.73825503 0.73825503 0.73825503 0.73825503 0.73825503 0.73825503\n",
      "  0.73825503 0.73825503 0.73825503 0.73825503 0.73825503 0.73825503\n",
      "  0.73825503 0.73825503]\n",
      " [0.73154362 0.73154362 0.73154362 0.73154362 0.73154362 0.73154362\n",
      "  0.73154362 0.73154362 0.73154362 0.73154362 0.73154362 0.73154362\n",
      "  0.73154362 0.73825503 0.74496644 0.74496644 0.75167785 0.75167785\n",
      "  0.74496644 0.75838926 0.76510067 0.76510067 0.76510067 0.76510067\n",
      "  0.76510067 0.76510067 0.76510067 0.75838926 0.75838926 0.76510067\n",
      "  0.76510067 0.76510067 0.76510067 0.76510067 0.76510067 0.76510067\n",
      "  0.76510067 0.76510067 0.76510067 0.76510067 0.76510067 0.76510067\n",
      "  0.76510067 0.76510067 0.76510067 0.76510067 0.76510067 0.76510067\n",
      "  0.76510067 0.76510067]\n",
      " [0.73154362 0.73154362 0.73154362 0.73154362 0.73154362 0.73154362\n",
      "  0.73154362 0.73154362 0.73154362 0.73154362 0.73154362 0.73154362\n",
      "  0.73825503 0.73154362 0.73154362 0.74496644 0.74496644 0.74496644\n",
      "  0.73825503 0.73825503 0.73825503 0.73825503 0.73825503 0.73154362\n",
      "  0.73154362 0.73154362 0.73154362 0.73154362 0.73154362 0.73154362\n",
      "  0.73154362 0.73154362 0.73154362 0.73154362 0.73154362 0.73154362\n",
      "  0.73154362 0.73154362 0.73154362 0.73154362 0.73154362 0.73154362\n",
      "  0.73154362 0.73154362 0.73154362 0.73154362 0.73154362 0.73154362\n",
      "  0.73154362 0.73154362]]\n"
     ]
    }
   ],
   "source": [
    "Cs = np.logspace(-2, 2, 50)\n",
    "# your code here\n",
    "\n",
    "# lr = LogisticRegression(random_state = 109, penalty = 'l1', max_iter = 210)\n",
    "lr_cv = LogisticRegressionCV(\n",
    "        Cs=Cs,\n",
    "        penalty='l1',\n",
    "        cv=10,  # Using same KFold object for fair comparison\n",
    "        scoring='accuracy',\n",
    "        random_state=109,\n",
    "        solver='liblinear', max_iter = 10000)\n",
    "logit_lasso = lr_cv.fit(X_train[predictor_list], y_train)\n",
    "y_hat_train = lr_cv.predict(X_train[predictor_list])\n",
    "logit_lasso_train_acc = accuracy_score(y_train, y_hat_train)\n",
    "\n",
    "\n",
    "#take the average of the C value CV score per fold, then take max\n",
    "#by specifying axis = 0, I specify I want to take the average of the sepcific entry/value\n",
    "#take the max\n",
    "logit_lasso_cv_acc = lr_cv.scores_[1].mean(axis=0).max()\n",
    "print(lr_cv.scores_[1])\n",
    "# lr_cv.scores_"
   ]
  },
  {
   "cell_type": "code",
   "execution_count": 375,
   "metadata": {
    "tags": []
   },
   "outputs": [
    {
     "name": "stdout",
     "output_type": "stream",
     "text": [
      "The intercept and coefficients for the 'logit_lasso' model are:\n",
      "\n",
      "\tintercept           -1.5207\n",
      "\ttest_score          0.8187\n",
      "\tap                  -0.0967\n",
      "\tavg_ap              -0.0240\n",
      "\tsat_subjects        -0.0689\n",
      "\tgpa                 0.0283\n",
      "\tfemale              -0.0029\n",
      "\tminority            0.6527\n",
      "\tinternational       0.0000\n",
      "\tsports              0.5988\n",
      "\tharvard             0.2628\n",
      "\tearly_app           0.4534\n",
      "\talumni              0.6012\n",
      "\n",
      "The classification accuracies for 'logit_lasso' are:\n",
      "\n",
      "\tTrain\t0.7420\n",
      "\tCV\t0.7380\n"
     ]
    }
   ],
   "source": [
    "# Display your results\n",
    "print(\n",
    "    \"The intercept and coefficients for the 'logit_lasso' model are:\"\n",
    "    \"\\n\\n\\t{:<20}{:.4f}\".format(\n",
    "        \"intercept\", np.array(logit_lasso.intercept_).flatten()[0]\n",
    "    )\n",
    ")\n",
    "\n",
    "# Again, this code assumes predictors were given to the model\n",
    "# in the order defined in `predictor_list`\n",
    "for predictor, coef in zip(predictor_list, logit_lasso.coef_.flatten()):\n",
    "    print(\"\\t{:<20}{:.4f}\".format(predictor, coef))\n",
    "\n",
    "print(\n",
    "    \"\\nThe classification accuracies for 'logit_lasso' are:\"\n",
    "    \"\\n\\n\\tTrain\\t{:.4f}\\n\\tCV\\t{:.4f}\"\n",
    "    .format(logit_lasso_train_acc, logit_lasso_cv_acc)\n",
    ")\n",
    "\n",
    "# store cv score to dict for later use\n",
    "q4_cv_scores[\"logit_lasso\"] = logit_lasso_cv_acc"
   ]
  },
  {
   "cell_type": "code",
   "execution_count": 376,
   "metadata": {
    "deletable": false,
    "editable": false
   },
   "outputs": [
    {
     "data": {
      "text/html": [
       "<p><strong><pre style='display: inline;'>q4.4</pre></strong> passed! 🎉</p>"
      ],
      "text/plain": [
       "q4.4 results: All test cases passed!"
      ]
     },
     "execution_count": 376,
     "metadata": {},
     "output_type": "execute_result"
    }
   ],
   "source": [
    "grader.check(\"q4.4\")"
   ]
  },
  {
   "cell_type": "markdown",
   "metadata": {
    "cell_id": "0a790850-87c6-4f46-b89e-048a2295c92b",
    "colab_type": "text",
    "deletable": false,
    "editable": false,
    "id": "IGFtXJmQap2q"
   },
   "source": [
    "<div class='exercise-r'>\n",
    "\n",
    "**4.5** Which predictors were deemed important in `logit_lasso`?  Which were deemed unimportant? Here we assume that any predictors with zero-valued Lasso coefficients \"unimportant\". Store your results in `predictors_important` and `predictors_not_important`.\n",
    " \n",
    "</div>"
   ]
  },
  {
   "cell_type": "code",
   "execution_count": 377,
   "metadata": {
    "tags": []
   },
   "outputs": [],
   "source": [
    "# your code here\n",
    "# intercept           -1.5207\n",
    "# \ttest_score          0.8187\n",
    "# \tap                  -0.0967\n",
    "# \tavg_ap              -0.0240\n",
    "# \tsat_subjects        -0.0689\n",
    "# \tgpa                 0.0283\n",
    "# \tfemale              -0.0029\n",
    "# \tminority            0.6527\n",
    "# \tinternational       0.0000\n",
    "# \tsports              0.5988\n",
    "# \tharvard             0.2628\n",
    "# \tearly_app           0.4534\n",
    "# \talumni              0.6012\n",
    "\n",
    "predictors_important = ['test_score', 'ap', 'avg_ap', 'sat_subjects', 'gpa', 'female', 'minority', 'sports', 'harvard', 'early_app', 'alumni']\n",
    "predictors_not_important = ['international']"
   ]
  },
  {
   "cell_type": "code",
   "execution_count": 378,
   "metadata": {
    "tags": []
   },
   "outputs": [
    {
     "name": "stdout",
     "output_type": "stream",
     "text": [
      "The following predictors were deemed important by 'logit_lasso' (i.e. coef != 0):\n",
      "\n",
      "\t['test_score', 'ap', 'avg_ap', 'sat_subjects', 'gpa', 'female', 'minority', 'sports', 'harvard', 'early_app', 'alumni']\n",
      "\n",
      "\n",
      "While, the remaining were deemed unimportant (i.e. coef == 0):\n",
      "\n",
      "\t['international']\n"
     ]
    }
   ],
   "source": [
    "# display results\n",
    "print(\n",
    "    \"The following predictors were deemed important by \"\n",
    "    \"'logit_lasso' (i.e. coef != 0):\\n\\n\\t{}\\n\\n\\n\"\n",
    "    \"While, the remaining were deemed unimportant (i.e. \"\n",
    "    \"coef == 0):\\n\\n\\t{}\"\n",
    "    .format(\n",
    "        predictors_important,\n",
    "        predictors_not_important,\n",
    "    )\n",
    ")"
   ]
  },
  {
   "cell_type": "code",
   "execution_count": 379,
   "metadata": {
    "deletable": false,
    "editable": false
   },
   "outputs": [
    {
     "data": {
      "text/html": [
       "<p><strong><pre style='display: inline;'>q4.5</pre></strong> passed! 🚀</p>"
      ],
      "text/plain": [
       "q4.5 results: All test cases passed!"
      ]
     },
     "execution_count": 379,
     "metadata": {},
     "output_type": "execute_result"
    }
   ],
   "source": [
    "grader.check(\"q4.5\")"
   ]
  },
  {
   "cell_type": "markdown",
   "metadata": {
    "cell_id": "0a790850-87c6-4f46-b89e-048a2295c92b",
    "colab_type": "text",
    "deletable": false,
    "editable": false,
    "id": "IGFtXJmQap2q"
   },
   "source": [
    "<div class='exercise-r'>\n",
    "\n",
    "**Q4.6** Fit a well-tuned Lasso-like logistic regression model with all important predictors from `logit_lasso` and all the unique 2-way interactions between them (call it `lasso_interact`).  Again use `Cs = np.logspace(-2, 2, 50)`,  and 10-fold cross-validation with classification accuracy as the scoring metric. Record the accuracy on train and test for this model in `lasso_interact_train_acc` and `lasso_interact_test_acc`.\n",
    "\n",
    "</div>"
   ]
  },
  {
   "cell_type": "code",
   "execution_count": 380,
   "metadata": {
    "tags": []
   },
   "outputs": [],
   "source": [
    "# your code here\n",
    "Cs = np.logspace(-2,2,50)\n",
    "\n",
    "#creating new df w/ important predictors, then using polynomial features to generate unique interaction terms \n",
    "X_train_new = X_train[predictors_important]\n",
    "poly = PolynomialFeatures(degree=2, interaction_only=True, include_bias=False)\n",
    "X_train_interactions = poly.fit_transform(X_train_new)\n",
    "\n",
    "# getting column names out\n",
    "interaction_feature_names = poly.get_feature_names_out(predictors_important)\n",
    "\n",
    "# convert to df\n",
    "X_train_interact_df = pd.DataFrame(X_train_interactions, columns=interaction_feature_names)\n",
    "\n",
    "lr_cv = LogisticRegressionCV(\n",
    "        Cs=Cs,\n",
    "        penalty='l1',\n",
    "        cv=10,  # Using same KFold object for fair comparison\n",
    "        scoring='accuracy',\n",
    "        random_state=109,\n",
    "        solver='liblinear', max_iter = 10000)\n",
    "lasso_interact = lr_cv.fit(X_train_interact_df, y_train)\n",
    "y_hat_train = lr_cv.predict(X_train_interact_df)\n",
    "\n"
   ]
  },
  {
   "cell_type": "code",
   "execution_count": 381,
   "metadata": {
    "scrolled": true,
    "tags": []
   },
   "outputs": [],
   "source": [
    "\n",
    "lasso_interact_train_acc = accuracy_score(y_train,y_hat_train)\n",
    "lasso_interact_cv_acc = lr_cv.scores_[1].mean(axis=0).max()"
   ]
  },
  {
   "cell_type": "code",
   "execution_count": 382,
   "metadata": {
    "scrolled": true,
    "tags": []
   },
   "outputs": [
    {
     "name": "stdout",
     "output_type": "stream",
     "text": [
      "\n",
      "The classification accuracies for 'logit_lasso_interact' are:\n",
      "\n",
      "\tTrain\t0.7547\n",
      "\tCV\t0.7386\n",
      "\n"
     ]
    }
   ],
   "source": [
    "print(\n",
    "    \"\\nThe classification accuracies for 'logit_lasso_interact' are:\"\n",
    "    \"\\n\\n\\tTrain\\t{:.4f}\\n\\tCV\\t{:.4f}\\n\"\n",
    "    .format(lasso_interact_train_acc, lasso_interact_cv_acc)\n",
    ")\n",
    "\n",
    "# store test score to dict for later use\n",
    "q4_cv_scores[\"lasso_interact\"] = lasso_interact_cv_acc"
   ]
  },
  {
   "cell_type": "markdown",
   "metadata": {
    "cell_id": "0a790850-87c6-4f46-b89e-048a2295c92b",
    "colab_type": "text",
    "deletable": false,
    "editable": false,
    "id": "IGFtXJmQap2q"
   },
   "source": [
    "<div class='exercise-r'>\n",
    "\n",
    "**Q4.7** How many of the predictors in our `logit_lasso_interact` model were deemed important and unimportant? Store these numbers in `num_important_coefs` and `num_unimportant_coefs`. \n",
    "    \n",
    "</div>"
   ]
  },
  {
   "cell_type": "code",
   "execution_count": 383,
   "metadata": {},
   "outputs": [
    {
     "name": "stdout",
     "output_type": "stream",
     "text": [
      "\ttest_score          0.7175\n",
      "\tap                  0.0000\n",
      "\tavg_ap              -0.2107\n",
      "\tsat_subjects        0.0000\n",
      "\tgpa                 0.0827\n",
      "\tfemale              -0.1347\n",
      "\tminority            0.9686\n",
      "\tsports              0.8106\n",
      "\tharvard             0.2748\n",
      "\tearly_app           0.5005\n",
      "\talumni              0.7005\n",
      "\ttest_score ap       0.0000\n",
      "\ttest_score avg_ap   0.0079\n",
      "\ttest_score sat_subjects-0.0842\n",
      "\ttest_score gpa      0.1266\n",
      "\ttest_score female   0.0706\n",
      "\ttest_score minority 0.0000\n",
      "\ttest_score sports   -0.1073\n",
      "\ttest_score harvard  0.1786\n",
      "\ttest_score early_app-0.0546\n",
      "\ttest_score alumni   0.3520\n",
      "\tap avg_ap           0.0151\n",
      "\tap sat_subjects     -0.0819\n",
      "\tap gpa              0.0615\n",
      "\tap female           0.0000\n",
      "\tap minority         0.2003\n",
      "\tap sports           0.0000\n",
      "\tap harvard          -0.3656\n",
      "\tap early_app        -0.0091\n",
      "\tap alumni           0.4184\n",
      "\tavg_ap sat_subjects 0.0549\n",
      "\tavg_ap gpa          -0.1452\n",
      "\tavg_ap female       0.0000\n",
      "\tavg_ap minority     0.3371\n",
      "\tavg_ap sports       0.0000\n",
      "\tavg_ap harvard      0.2434\n",
      "\tavg_ap early_app    0.0000\n",
      "\tavg_ap alumni       0.0000\n",
      "\tsat_subjects gpa    -0.0447\n",
      "\tsat_subjects female 0.0000\n",
      "\tsat_subjects minority0.0438\n",
      "\tsat_subjects sports -0.1867\n",
      "\tsat_subjects harvard-0.1042\n",
      "\tsat_subjects early_app-0.0052\n",
      "\tsat_subjects alumni 0.0832\n",
      "\tgpa female          0.0244\n",
      "\tgpa minority        0.0852\n",
      "\tgpa sports          0.0000\n",
      "\tgpa harvard         -0.0283\n",
      "\tgpa early_app       0.0000\n",
      "\tgpa alumni          0.0000\n",
      "\tfemale minority     -0.0974\n",
      "\tfemale sports       0.0000\n",
      "\tfemale harvard      0.1588\n",
      "\tfemale early_app    0.1125\n",
      "\tfemale alumni       0.0000\n",
      "\tminority sports     -0.1567\n",
      "\tminority harvard    -0.3041\n",
      "\tminority early_app  0.0000\n",
      "\tminority alumni     0.0000\n",
      "\tsports harvard      0.0000\n",
      "\tsports early_app    0.2685\n",
      "\tsports alumni       0.0000\n",
      "\tharvard early_app   0.0000\n",
      "\tharvard alumni      0.0147\n",
      "\tearly_app alumni    0.0000\n"
     ]
    }
   ],
   "source": [
    "num_important_coefs = 0\n",
    "num_unimportant_coefs = 0\n",
    "\n",
    "for predictor, coef in zip(X_train_interact_df.columns, lasso_interact.coef_.flatten()):\n",
    "    print(\"\\t{:<20}{:.4f}\".format(predictor, coef))\n",
    "\n",
    "# len(X_train_interact_df.columns)\n",
    "#44 22\n",
    "\n",
    "for predictor, coef in zip(X_train_interact_df.columns, lasso_interact.coef_.flatten()):\n",
    "    if coef != 0:\n",
    "        num_important_coefs+=1\n",
    "    else:\n",
    "         num_unimportant_coefs+=1\n",
    "        "
   ]
  },
  {
   "cell_type": "code",
   "execution_count": 384,
   "metadata": {
    "tags": []
   },
   "outputs": [
    {
     "name": "stdout",
     "output_type": "stream",
     "text": [
      "Of the 66 predictors used in our 'logit_lasso_interact' model:\n",
      "\n",
      "\t44 predictors were deemed 'important' by our model\n",
      "\t22 predictors were deemed 'unimportant' with 0-valued coefficients\n"
     ]
    }
   ],
   "source": [
    "print(\n",
    "    \"Of the {} predictors used in our 'logit_lasso_interact' model:\"\n",
    "    \"\\n\\n\\t{} predictors were deemed 'important' by our model\"\n",
    "    \"\\n\\t{} predictors were deemed 'unimportant' with 0-valued \"\n",
    "    \"coefficients\".format(\n",
    "        num_important_coefs + num_unimportant_coefs,\n",
    "        num_important_coefs,\n",
    "        num_unimportant_coefs\n",
    "    )\n",
    ")"
   ]
  },
  {
   "cell_type": "code",
   "execution_count": 385,
   "metadata": {
    "deletable": false,
    "editable": false
   },
   "outputs": [
    {
     "data": {
      "text/html": [
       "<p><strong><pre style='display: inline;'>q4.7</pre></strong> passed! ✨</p>"
      ],
      "text/plain": [
       "q4.7 results: All test cases passed!"
      ]
     },
     "execution_count": 385,
     "metadata": {},
     "output_type": "execute_result"
    }
   ],
   "source": [
    "grader.check(\"q4.7\")"
   ]
  },
  {
   "cell_type": "markdown",
   "metadata": {},
   "source": [
    "---"
   ]
  },
  {
   "cell_type": "markdown",
   "metadata": {},
   "source": [
    "<a id=\"part5\"></a>\n",
    "\n",
    "## <div class='exercise'>Question 5: Evaluating results</div>\n",
    "\n",
    "[Return to contents](#contents)"
   ]
  },
  {
   "cell_type": "markdown",
   "metadata": {
    "cell_id": "0a790850-87c6-4f46-b89e-048a2295c92b",
    "colab_type": "text",
    "deletable": false,
    "editable": false,
    "id": "IGFtXJmQap2q"
   },
   "source": [
    "<!-- BEGIN QUESTION -->\n",
    "\n",
    "<div class='exercise-r'>\n",
    "\n",
    "**Q5.1** Which of the 4 models in Question 4 performs the best based on cross-validation accuracy?  Which performs the worst? Based on these accuracies, how do these models perform compared to your baseline \"naive\" model's performance on the training data back in Question 1.1? What does this comparison to the \"naive\" model tell us?\n",
    "    \n",
    "</div>"
   ]
  },
  {
   "cell_type": "code",
   "execution_count": 386,
   "metadata": {
    "deletable": false,
    "editable": false
   },
   "outputs": [
    {
     "name": "stdout",
     "output_type": "stream",
     "text": [
      "The CV accuracies for the 4 models in Q4 are:\n",
      "\n",
      "\tknn_model                0.7373\n",
      "\tlogit_full               0.7373\n",
      "\tlogit_lasso              0.7380\n",
      "\tlasso_interact           0.7386\n",
      "\n",
      "The  accuracy for our original baseline \"naive\" model was 0.7299\n"
     ]
    }
   ],
   "source": [
    "# your code here\n",
    "print(\"The CV accuracies for the 4 models in Q4 are:\\n\")\n",
    "for key, value in q4_cv_scores.items():\n",
    "    print(\"\\t{:<25}{:.4f}\".format(key, value))\n",
    "print(\n",
    "    \"\\nThe  accuracy for our original baseline \\\"naive\\\" \"\n",
    "    \"model was {:.4f}\".format(naive_train_acc)\n",
    ")"
   ]
  },
  {
   "cell_type": "markdown",
   "metadata": {},
   "source": [
    "<div class=\"highlight-box\" style=\"border: 1px solid #ffcccb; background-color: #ffcccb; height: 5px;\"></div>"
   ]
  },
  {
   "cell_type": "markdown",
   "metadata": {},
   "source": [
    "The best performing model is the lasso_interact model while the worst performing models are the knn and logit_full models. \n",
    "\n",
    "These models have slightly better performance than the naive model, with the accuracy improvement ranging from 0.0074 to 0.0087. We can see that as model complexity increases, accuracy slightly increases. **This suggests that the model performance might be close to best achievable given this dataset**. \n",
    "\n",
    "I think one reason for this may be that my predictors just simply lack predictive power in terms of classifcation. And this is because such a high proportion of applicants in this dataset are rejected; A person with a test score of 2444 as we saw (which is a impossible score btw) has 50/50 chances of getting admitted/denied. Which is insane but it just goes to show how feeble test score is at classfying an admission.  So if the features do not strongly differentiate between classes, no matter the value, even complex models with additional parameters or interactions won't significantly improve performance. The data overall lacks strong patterns  that would allow more complex models to outperform the naive model by a larger margin.\n",
    "\n"
   ]
  },
  {
   "cell_type": "markdown",
   "metadata": {},
   "source": [
    "<div class=\"highlight-box\" style=\"border: 1px solid #ffcccb; background-color: #ffcccb; height: 5px;\"></div>"
   ]
  },
  {
   "cell_type": "markdown",
   "metadata": {
    "cell_id": "0a790850-87c6-4f46-b89e-048a2295c92b",
    "colab_type": "text",
    "deletable": false,
    "editable": false,
    "id": "IGFtXJmQap2q"
   },
   "source": [
    "<!-- END QUESTION -->\n",
    "\n",
    "<!-- BEGIN QUESTION -->\n",
    "\n",
    "<div class='exercise-r'>\n",
    "\n",
    "**Q5.2** Draw an ROC curve for each of the four models on a single plot.  How do these ROC curves compare?  Do the ROC curves support that the best model identified in Question 5.1 is better than the worst model identified in 5.1?  How do you know?\n",
    "\n",
    "**Hint:** Use `cross_val_predict` with `method='predict_proba` to get the probability predictions required to construct the ROC curves.\n",
    "</div>"
   ]
  },
  {
   "cell_type": "markdown",
   "metadata": {},
   "source": [
    "<div class=\"highlight-box\" style=\"border: 1px solid #ffcccb; background-color: #ffcccb; height: 5px;\"></div>"
   ]
  },
  {
   "cell_type": "markdown",
   "metadata": {},
   "source": [
    "The ROC curves for logit_full, logit_lasso, and lasso_interact are identical. The ROC curves support the idea that the best model identified prior (lasso_interact) is better than one of the worst models identified in 5.1 (knn_model). However, they do not support the idea that the lasso_interact model performs better than the logit_full model, which was the worst model identified in 5.1. I know this because their ROC curves are identical, suggesting they have the same classification rate accuracy (which we know is not true based on 5.1). "
   ]
  },
  {
   "cell_type": "markdown",
   "metadata": {},
   "source": [
    "<div class=\"highlight-box\" style=\"border: 1px solid #ffcccb; background-color: #ffcccb; height: 5px;\"></div>"
   ]
  },
  {
   "cell_type": "code",
   "execution_count": 387,
   "metadata": {},
   "outputs": [
    {
     "data": {
      "text/html": [
       "<div>\n",
       "<style scoped>\n",
       "    .dataframe tbody tr th:only-of-type {\n",
       "        vertical-align: middle;\n",
       "    }\n",
       "\n",
       "    .dataframe tbody tr th {\n",
       "        vertical-align: top;\n",
       "    }\n",
       "\n",
       "    .dataframe thead th {\n",
       "        text-align: right;\n",
       "    }\n",
       "</style>\n",
       "<table border=\"1\" class=\"dataframe\">\n",
       "  <thead>\n",
       "    <tr style=\"text-align: right;\">\n",
       "      <th></th>\n",
       "      <th>test_score</th>\n",
       "      <th>ap</th>\n",
       "      <th>avg_ap</th>\n",
       "      <th>sat_subjects</th>\n",
       "      <th>gpa</th>\n",
       "      <th>female</th>\n",
       "      <th>minority</th>\n",
       "      <th>international</th>\n",
       "      <th>sports</th>\n",
       "      <th>early_app</th>\n",
       "      <th>alumni</th>\n",
       "      <th>harvard</th>\n",
       "    </tr>\n",
       "  </thead>\n",
       "  <tbody>\n",
       "    <tr>\n",
       "      <th>192</th>\n",
       "      <td>0.727</td>\n",
       "      <td>1.543</td>\n",
       "      <td>0.753</td>\n",
       "      <td>1.664</td>\n",
       "      <td>0.514</td>\n",
       "      <td>0</td>\n",
       "      <td>0</td>\n",
       "      <td>0</td>\n",
       "      <td>0</td>\n",
       "      <td>0</td>\n",
       "      <td>0</td>\n",
       "      <td>1</td>\n",
       "    </tr>\n",
       "    <tr>\n",
       "      <th>652</th>\n",
       "      <td>-1.045</td>\n",
       "      <td>-0.179</td>\n",
       "      <td>0.365</td>\n",
       "      <td>0.093</td>\n",
       "      <td>-0.661</td>\n",
       "      <td>1</td>\n",
       "      <td>1</td>\n",
       "      <td>0</td>\n",
       "      <td>0</td>\n",
       "      <td>0</td>\n",
       "      <td>0</td>\n",
       "      <td>1</td>\n",
       "    </tr>\n",
       "    <tr>\n",
       "      <th>593</th>\n",
       "      <td>-0.631</td>\n",
       "      <td>0.682</td>\n",
       "      <td>0.287</td>\n",
       "      <td>-0.692</td>\n",
       "      <td>-0.150</td>\n",
       "      <td>0</td>\n",
       "      <td>0</td>\n",
       "      <td>0</td>\n",
       "      <td>0</td>\n",
       "      <td>0</td>\n",
       "      <td>0</td>\n",
       "      <td>1</td>\n",
       "    </tr>\n",
       "    <tr>\n",
       "      <th>331</th>\n",
       "      <td>0.373</td>\n",
       "      <td>-1.470</td>\n",
       "      <td>-2.159</td>\n",
       "      <td>-0.692</td>\n",
       "      <td>0.617</td>\n",
       "      <td>0</td>\n",
       "      <td>0</td>\n",
       "      <td>0</td>\n",
       "      <td>0</td>\n",
       "      <td>0</td>\n",
       "      <td>0</td>\n",
       "      <td>1</td>\n",
       "    </tr>\n",
       "    <tr>\n",
       "      <th>1117</th>\n",
       "      <td>0.255</td>\n",
       "      <td>0.252</td>\n",
       "      <td>0.171</td>\n",
       "      <td>1.664</td>\n",
       "      <td>0.412</td>\n",
       "      <td>1</td>\n",
       "      <td>0</td>\n",
       "      <td>0</td>\n",
       "      <td>0</td>\n",
       "      <td>1</td>\n",
       "      <td>0</td>\n",
       "      <td>0</td>\n",
       "    </tr>\n",
       "    <tr>\n",
       "      <th>...</th>\n",
       "      <td>...</td>\n",
       "      <td>...</td>\n",
       "      <td>...</td>\n",
       "      <td>...</td>\n",
       "      <td>...</td>\n",
       "      <td>...</td>\n",
       "      <td>...</td>\n",
       "      <td>...</td>\n",
       "      <td>...</td>\n",
       "      <td>...</td>\n",
       "      <td>...</td>\n",
       "      <td>...</td>\n",
       "    </tr>\n",
       "    <tr>\n",
       "      <th>365</th>\n",
       "      <td>0.255</td>\n",
       "      <td>0.252</td>\n",
       "      <td>0.171</td>\n",
       "      <td>0.093</td>\n",
       "      <td>0.617</td>\n",
       "      <td>0</td>\n",
       "      <td>1</td>\n",
       "      <td>0</td>\n",
       "      <td>0</td>\n",
       "      <td>0</td>\n",
       "      <td>0</td>\n",
       "      <td>1</td>\n",
       "    </tr>\n",
       "    <tr>\n",
       "      <th>1055</th>\n",
       "      <td>0.432</td>\n",
       "      <td>-1.040</td>\n",
       "      <td>0.753</td>\n",
       "      <td>2.449</td>\n",
       "      <td>-0.405</td>\n",
       "      <td>1</td>\n",
       "      <td>0</td>\n",
       "      <td>0</td>\n",
       "      <td>0</td>\n",
       "      <td>0</td>\n",
       "      <td>0</td>\n",
       "      <td>0</td>\n",
       "    </tr>\n",
       "    <tr>\n",
       "      <th>728</th>\n",
       "      <td>-1.990</td>\n",
       "      <td>-0.609</td>\n",
       "      <td>-0.412</td>\n",
       "      <td>0.093</td>\n",
       "      <td>-0.201</td>\n",
       "      <td>1</td>\n",
       "      <td>1</td>\n",
       "      <td>0</td>\n",
       "      <td>0</td>\n",
       "      <td>0</td>\n",
       "      <td>0</td>\n",
       "      <td>1</td>\n",
       "    </tr>\n",
       "    <tr>\n",
       "      <th>1488</th>\n",
       "      <td>-1.872</td>\n",
       "      <td>1.113</td>\n",
       "      <td>-0.703</td>\n",
       "      <td>-2.262</td>\n",
       "      <td>0.617</td>\n",
       "      <td>1</td>\n",
       "      <td>1</td>\n",
       "      <td>0</td>\n",
       "      <td>0</td>\n",
       "      <td>0</td>\n",
       "      <td>0</td>\n",
       "      <td>0</td>\n",
       "    </tr>\n",
       "    <tr>\n",
       "      <th>1296</th>\n",
       "      <td>-0.218</td>\n",
       "      <td>1.113</td>\n",
       "      <td>0.268</td>\n",
       "      <td>0.879</td>\n",
       "      <td>0.208</td>\n",
       "      <td>0</td>\n",
       "      <td>0</td>\n",
       "      <td>0</td>\n",
       "      <td>0</td>\n",
       "      <td>0</td>\n",
       "      <td>0</td>\n",
       "      <td>0</td>\n",
       "    </tr>\n",
       "  </tbody>\n",
       "</table>\n",
       "<p>1496 rows × 12 columns</p>\n",
       "</div>"
      ],
      "text/plain": [
       "      test_score     ap  avg_ap  sat_subjects    gpa  female  minority  \\\n",
       "192        0.727  1.543   0.753         1.664  0.514       0         0   \n",
       "652       -1.045 -0.179   0.365         0.093 -0.661       1         1   \n",
       "593       -0.631  0.682   0.287        -0.692 -0.150       0         0   \n",
       "331        0.373 -1.470  -2.159        -0.692  0.617       0         0   \n",
       "1117       0.255  0.252   0.171         1.664  0.412       1         0   \n",
       "...          ...    ...     ...           ...    ...     ...       ...   \n",
       "365        0.255  0.252   0.171         0.093  0.617       0         1   \n",
       "1055       0.432 -1.040   0.753         2.449 -0.405       1         0   \n",
       "728       -1.990 -0.609  -0.412         0.093 -0.201       1         1   \n",
       "1488      -1.872  1.113  -0.703        -2.262  0.617       1         1   \n",
       "1296      -0.218  1.113   0.268         0.879  0.208       0         0   \n",
       "\n",
       "      international  sports  early_app  alumni  harvard  \n",
       "192               0       0          0       0        1  \n",
       "652               0       0          0       0        1  \n",
       "593               0       0          0       0        1  \n",
       "331               0       0          0       0        1  \n",
       "1117              0       0          1       0        0  \n",
       "...             ...     ...        ...     ...      ...  \n",
       "365               0       0          0       0        1  \n",
       "1055              0       0          0       0        0  \n",
       "728               0       0          0       0        1  \n",
       "1488              0       0          0       0        0  \n",
       "1296              0       0          0       0        0  \n",
       "\n",
       "[1496 rows x 12 columns]"
      ]
     },
     "execution_count": 387,
     "metadata": {},
     "output_type": "execute_result"
    }
   ],
   "source": [
    "predictors = ['test_score', 'ap', 'avg_ap', 'sat_subjects', 'gpa', 'female', 'minority', 'international', 'sports', 'early_app', 'alumni', 'harvard']\n",
    "X_train[predictors]"
   ]
  },
  {
   "cell_type": "code",
   "execution_count": 388,
   "metadata": {
    "tags": []
   },
   "outputs": [
    {
     "name": "stdout",
     "output_type": "stream",
     "text": [
      "hello\n"
     ]
    },
    {
     "data": {
      "image/png": "[encoded data removed]",
      "text/plain": [
       "<Figure size 640x480 with 1 Axes>"
      ]
     },
     "metadata": {},
     "output_type": "display_data"
    }
   ],
   "source": [
    "# your code here\n",
    "from sklearn.metrics import roc_curve, roc_auc_score, auc\n",
    "# models = {\n",
    "#  2     'KNN': best_knn,\n",
    "#       3     'Ridge LogReg': reg_pipeline,\n",
    "#       4     'Lasso Poly LogReg': poly_lasso_pipeline\n",
    "#       5 }logit_full               0.7373\n",
    "\t# logit_lasso              0.7380\n",
    "\t# lasso_interact           0.7386\n",
    "aucs = {}\n",
    "\n",
    "#making dictionaries of the models like in lab\n",
    "model_predictor = {'knn': knn_model}\n",
    "model_predictor_list = {'logit_full':logit_full,'logit_lasso': logit_lasso}\n",
    "model_interact_list = {'lasso_interact': lasso_interact}\n",
    "\n",
    "\n",
    "for name, model in model_predictor.items():\n",
    "    y_proba = cross_val_predict(model, X_train[predictor_list], y_train, cv=10, method = 'predict_proba')\n",
    "    fpr, tpr, _ = roc_curve(y_train, y_proba[:, 1])\n",
    "    roc_auc = auc(fpr, tpr)\n",
    "    aucs[name] = roc_auc\n",
    "    plt.plot(fpr, tpr, label=f'{name} (AUC = {roc_auc:.2f})')\n",
    "    print('hello')\n",
    "    \n",
    "for name, model in model_predictor_list.items():\n",
    "    y_proba = cross_val_predict(model, X_train[predictor_list], y_train, cv=10, method = 'predict_proba')\n",
    "    fpr, tpr, _ = roc_curve(y_train, y_proba[:, 1])\n",
    "    roc_auc = auc(fpr, tpr)\n",
    "    aucs[name] = roc_auc\n",
    "        \n",
    "    # Plot ROC curve for this model\n",
    "    plt.plot(fpr, tpr, label=f'{name} (AUC = {roc_auc:.2f})')\n",
    "    \n",
    "for name, model in model_interact_list.items():\n",
    "    y_proba = cross_val_predict(model, X_train_interact_df, y_train, cv=10, method = 'predict_proba')\n",
    "    fpr, tpr, _ = roc_curve(y_train, y_proba[:, 1])\n",
    "    roc_auc = auc(fpr, tpr)\n",
    "    aucs[name] = roc_auc\n",
    "    plt.plot(fpr, tpr, label=f'{name} (AUC = {roc_auc:.2f})')\n",
    "\n",
    "plt.title('ROC Curves')\n",
    "plt.legend(loc=\"lower right\")\n",
    "plt.xlabel('False Positive Rate')\n",
    "plt.ylabel('True Positive Rate')\n",
    "plt.grid(True)\n",
    "plt.show()\n"
   ]
  },
  {
   "cell_type": "markdown",
   "metadata": {
    "cell_id": "0a790850-87c6-4f46-b89e-048a2295c92b",
    "colab_type": "text",
    "deletable": false,
    "editable": false,
    "id": "IGFtXJmQap2q"
   },
   "source": [
    "<!-- END QUESTION -->\n",
    "\n",
    "<!-- BEGIN QUESTION -->\n",
    "\n",
    "<div class='exercise-r'>\n",
    "\n",
    "**5.3** Calculate the AUC for all 4 models and store these in `auc_list`. **The order of AUCs in the list should match the order of the model as they appear in `q4_cv_scores`.**\n",
    "    \n",
    "Do the rankings of these 4 models based on AUC match those for classification accuracy?  Why do you think this is the case?\n",
    "    \n",
    "</div>"
   ]
  },
  {
   "cell_type": "markdown",
   "metadata": {},
   "source": [
    "<div class=\"highlight-box\" style=\"border: 1px solid #ffcccb; background-color: #ffcccb; height: 5px;\"></div>"
   ]
  },
  {
   "cell_type": "markdown",
   "metadata": {},
   "source": [
    "The ranking of the AUC's do not match those for classification accuracy. They measure fundamentally different things. Classification accuracy classifies a point given a set threshold. The AUC varies the prediction threshold.  I think a big reason for this is class imbalance. AUC is not really sensitive to class imbalance as it evaluates the true positive and false positive rates across different thresholds. It only focuses on how well the model distinguishes between classes.\n",
    "\n",
    "Accuracy is sensitive to class imbalance. If there are a majority of instances in one class, a model that always predicts the majority class will have high accuracy but low AUC because it fails to distinguish between classes. \n"
   ]
  },
  {
   "cell_type": "markdown",
   "metadata": {},
   "source": [
    "<div class=\"highlight-box\" style=\"border: 1px solid #ffcccb; background-color: #ffcccb; height: 5px;\"></div>"
   ]
  },
  {
   "cell_type": "code",
   "execution_count": 389,
   "metadata": {
    "tags": []
   },
   "outputs": [
    {
     "name": "stdout",
     "output_type": "stream",
     "text": [
      "[0.631780863525913, 0.7013110651724512, 0.7023582852790774, 0.6945970695970697]\n"
     ]
    }
   ],
   "source": [
    "# your code here\n",
    "# calculate each model's AUC using its ROC fpr and tpr\n",
    "auc_list = []\n",
    "auc_list = list(aucs.values())\n",
    "auc_list = list(map(float, auc_list))\n",
    "print(auc_list)    \n"
   ]
  },
  {
   "cell_type": "code",
   "execution_count": 390,
   "metadata": {
    "tags": []
   },
   "outputs": [
    {
     "name": "stdout",
     "output_type": "stream",
     "text": [
      "The CV accuracies & CV AUC scores for the 4 models in Q4 are:\n",
      "\n",
      "\t\t\t\tAccuracy\tAUC\n",
      "\tknn_model               0.7373\t\t0.6318\n",
      "\tlogit_full              0.7373\t\t0.7013\n",
      "\tlogit_lasso             0.7380\t\t0.7024\n",
      "\tlasso_interact          0.7386\t\t0.6946\n"
     ]
    }
   ],
   "source": [
    "print(\n",
    "    \"The CV accuracies & CV AUC scores for the 4 models in Q4 are:\"\n",
    "    \"\\n\\n\\t\\t\\t\\tAccuracy\\tAUC\"\n",
    ")\n",
    "\n",
    "# for (key, value) in auc_list:\n",
    "#     print(\"\\t{:<24}{:.4f}\\t\\t{:.4f}\".format(key, value))\n",
    "# Loop through and print each key-value pair in auc_list\n",
    "# for key, value in auc_list.items():\n",
    "#     print(f\"{key}: {value}\")\n",
    "    \n",
    "for (key, value), auc_value in zip(q4_cv_scores.items(), auc_list):\n",
    "    print(\"\\t{:<24}{:.4f}\\t\\t{:.4f}\".format(key, value, auc_value))"
   ]
  },
  {
   "cell_type": "markdown",
   "metadata": {},
   "source": [
    "**I WENT TO MULTIPLE OFFICE HOURS TO CHECK WHY MY AUC SCORE IS OFF FOR THE KNN MODEL AND ONLY THE KNN MODEL. THE TFS, INCLUDING CHRIS, TOLD ME MY CODE IS CORRECT. THEY ARE UNSURE WHY MY AUC SCORE IS OFF. THEY TOLD ME TO SUBMIT MY CODE AS IS AND IT WOULD BE UNREASONABLE TO HAVE POINTS TAKEN OFF**"
   ]
  },
  {
   "cell_type": "code",
   "execution_count": 391,
   "metadata": {
    "deletable": false
   },
   "outputs": [
    {
     "data": {
      "text/html": [
       "<p><strong style='color: red;'><pre style='display: inline;'>q5.3</pre> results:</strong></p><p><strong><pre style='display: inline;'>q5.3 - 1</pre> result:</strong></p><pre>    ✅ Test case passed</pre><p><strong><pre style='display: inline;'>q5.3 - 2</pre> result:</strong></p><pre>    ❌ Test case failed\n",
       "    Trying:\n",
       "        assert np.allclose(auc_list, [0.6528, 0.7013, 0.7024, 0.6946], atol=0.001), 'AUC scores are off.'\n",
       "    Expecting nothing\n",
       "    **********************************************************************\n",
       "    Line 1, in q5.3 1\n",
       "    Failed example:\n",
       "        assert np.allclose(auc_list, [0.6528, 0.7013, 0.7024, 0.6946], atol=0.001), 'AUC scores are off.'\n",
       "    Exception raised:\n",
       "        Traceback (most recent call last):\n",
       "          File \"/Users/zacharysardi-santos/micromamba/envs/cs109a/lib/python3.12/doctest.py\", line 1368, in __run\n",
       "            exec(compile(example.source, filename, \"single\",\n",
       "          File \"<doctest q5.3 1[0]>\", line 1, in <module>\n",
       "            assert np.allclose(auc_list, [0.6528, 0.7013, 0.7024, 0.6946], atol=0.001), 'AUC scores are off.'\n",
       "                   ^^^^^^^^^^^^^^^^^^^^^^^^^^^^^^^^^^^^^^^^^^^^^^^^^^^^^^^^^^^^^^^^^^^\n",
       "        AssertionError: AUC scores are off.\n",
       "</pre>"
      ],
      "text/plain": [
       "q5.3 results:\n",
       "    q5.3 - 1 result:\n",
       "        ✅ Test case passed\n",
       "\n",
       "    q5.3 - 2 result:\n",
       "        ❌ Test case failed\n",
       "        Trying:\n",
       "            assert np.allclose(auc_list, [0.6528, 0.7013, 0.7024, 0.6946], atol=0.001), 'AUC scores are off.'\n",
       "        Expecting nothing\n",
       "        **********************************************************************\n",
       "        Line 1, in q5.3 1\n",
       "        Failed example:\n",
       "            assert np.allclose(auc_list, [0.6528, 0.7013, 0.7024, 0.6946], atol=0.001), 'AUC scores are off.'\n",
       "        Exception raised:\n",
       "            Traceback (most recent call last):\n",
       "              File \"/Users/zacharysardi-santos/micromamba/envs/cs109a/lib/python3.12/doctest.py\", line 1368, in __run\n",
       "                exec(compile(example.source, filename, \"single\",\n",
       "              File \"<doctest q5.3 1[0]>\", line 1, in <module>\n",
       "                assert np.allclose(auc_list, [0.6528, 0.7013, 0.7024, 0.6946], atol=0.001), 'AUC scores are off.'\n",
       "                       ^^^^^^^^^^^^^^^^^^^^^^^^^^^^^^^^^^^^^^^^^^^^^^^^^^^^^^^^^^^^^^^^^^^\n",
       "            AssertionError: AUC scores are off."
      ]
     },
     "execution_count": 391,
     "metadata": {},
     "output_type": "execute_result"
    }
   ],
   "source": [
    "grader.check(\"q5.3\")"
   ]
  },
  {
   "cell_type": "markdown",
   "metadata": {
    "cell_id": "0a790850-87c6-4f46-b89e-048a2295c92b",
    "colab_type": "text",
    "deletable": false,
    "editable": false,
    "id": "IGFtXJmQap2q"
   },
   "source": [
    "<!-- END QUESTION -->\n",
    "\n",
    "<!-- BEGIN QUESTION -->\n",
    "\n",
    "<div class='exercise-r'>\n",
    "\n",
    "**Q5.4** Select your preferred model based on the cross-validation accuracy and AUC. For this 'final model', display the accuracy and AUC scores on the **test data**. Compare these to the accuracy and AUC score of the naive model from 1.1 when predicting on the test data. Would you offer your final model as a publicly available tool for college applicants to use to determine their chances of getting into Harvard and/or Yale? Why or why not? What might be some consequences of the deployment of the model into the real world?\n",
    "    \n",
    "</div>"
   ]
  },
  {
   "cell_type": "markdown",
   "metadata": {},
   "source": [
    "<div class=\"highlight-box\" style=\"border: 1px solid #ffcccb; background-color: #ffcccb; height: 5px;\"></div>"
   ]
  },
  {
   "cell_type": "markdown",
   "metadata": {},
   "source": [
    "**My preferred model is the logit_lasso model based on the cross-validation accuracy and AUC.**\n",
    "\n",
    "My model has a much higher AUC and a slightly greater classification accuracy than the naive model. \n",
    "\n",
    "I would not offer my final model as a publicly available tool for applicants for one major reason. The AUC of my model (AUC = 0.56) is  slightly higher than the random model (AUC = 0.5). The key word is \"slightly\". The random model basically just flips a coin for each datapoint and classifies the point depending on what side landed face up. As my model's AUC (how my model performs in terms of correct classification) is close to the random model's AUC, one can infer my model is performing at random and does not have an acceptable valid classification. \n",
    "\n",
    "Basically, if my model were deployed and an applicant used it to determine admittance, it would be comparable to flipping a coin, and if it lands heads, you're admitted, and tails, you're denied. This is an unbelievable way to predict admittance for college admissions. No matter their qualifications, applicants have an almost equal chance of getting admitted. This could have serious practical consequences, like creating a lack of incentives for high school students (b/c look, all I have to do is flip a coin to get into Harvard!) to the discouragement of excelling high school students (b/c no matter my test scores, a coin flip decides my admittance). "
   ]
  },
  {
   "cell_type": "markdown",
   "metadata": {},
   "source": [
    "<div class=\"highlight-box\" style=\"border: 1px solid #ffcccb; background-color: #ffcccb; height: 5px;\"></div>"
   ]
  },
  {
   "cell_type": "code",
   "execution_count": 280,
   "metadata": {},
   "outputs": [
    {
     "data": {
      "text/plain": [
       "np.float64(0.7379731543624162)"
      ]
     },
     "execution_count": 280,
     "metadata": {},
     "output_type": "execute_result"
    }
   ],
   "source": [
    "# q4_cv_scores['logit_lasso']"
   ]
  },
  {
   "cell_type": "code",
   "execution_count": 392,
   "metadata": {
    "tags": []
   },
   "outputs": [],
   "source": [
    "from sklearn.dummy import DummyClassifier\n",
    "\n",
    "final_model = {'logit_lasso': logit_lasso}\n",
    "for name, model in final_model.items():\n",
    "    y_proba = cross_val_predict(model, X_test[predictor_list], y_test, cv=10, method = 'predict_proba')\n",
    "    fpr, tpr, _ = roc_curve(y_test, y_proba[:, 1])\n",
    "    roc_auc_logit = auc(fpr, tpr)\n",
    "    aucs[name] = roc_auc\n",
    "\n",
    "proportion_test_raw = y_test.value_counts()\n",
    "proportion_test_raw #274 denies 101 yes\n",
    "proportion_test = 101/274\n",
    "\n",
    "# acc_counter = 0\n",
    "if proportion_test < 0.5:\n",
    "    naive_model_q5 = np.zeros(len(y_test))\n",
    "if proportion_test >= 0.5:\n",
    "    naive_model_q5 = np.ones(len(y_test))\n",
    "naive_test_acc = sum(naive_model_q5==y_test)/len(y_test)\n",
    "\n",
    "# naive_model_dict = {'naive_model': naive_model_q5}\n",
    "\n",
    "# # Calculate the proportion of the positive class in y_test\n",
    "# positive_class_prob = (y_test == 1).mean()\n",
    "\n",
    "# # Generate a constant probability for the positive class for all samples in y_test\n",
    "# y_proba_naive = np.full((len(y_test), 2), [1 - positive_class_prob, positive_class_prob])\n",
    "\n",
    "# # Compute ROC curve and AUC using the probability for the positive class\n",
    "# fpr, tpr, _ = roc_curve(y_test, y_proba_naive[:, 1])\n",
    "# roc_auc_naive = auc(fpr, tpr)\n",
    "\n",
    "\n",
    "\n",
    "# naive_model_q1 = DummyClassifier(strategy=\"most_frequent\")  # Predicts the majority class\n",
    "\n",
    "naive_auc = 0\n",
    "\n",
    "# naive_test_acc = sum(naive_model==y_test)/len(y_test)\n"
   ]
  },
  {
   "cell_type": "code",
   "execution_count": 393,
   "metadata": {},
   "outputs": [
    {
     "name": "stdout",
     "output_type": "stream",
     "text": [
      "The CV accuracies & CV AUC scores for the logit_lasso on the test data are:\n",
      "\n",
      "\t\t\t\tAccuracy\tAUC\n",
      "\tlogit_lasso             0.7380\t\t0.5626\n",
      "The CV accuracies & CV AUC scores for the naive_model on the test data are:\n",
      "\n",
      "\t\t\t\tAccuracy\tAUC\n",
      "\tnaive_model             0.7307\t\t0.0000\n"
     ]
    }
   ],
   "source": [
    "print(\"The CV accuracies & CV AUC scores for the logit_lasso on the test data are:\"\n",
    "    \"\\n\\n\\t\\t\\t\\tAccuracy\\tAUC\")\n",
    "\n",
    "print(\"\\t{:<24}{:.4f}\\t\\t{:.4f}\".format('logit_lasso', q4_cv_scores['logit_lasso'], roc_auc_logit))\n",
    "\n",
    "print(\"The CV accuracies & CV AUC scores for the naive_model on the test data are:\"\n",
    "    \"\\n\\n\\t\\t\\t\\tAccuracy\\tAUC\")\n",
    "\n",
    "print(\"\\t{:<24}{:.4f}\\t\\t{:.4f}\".format('naive_model', naive_test_acc, naive_auc))\n",
    "\n",
    "\n",
    "\n",
    "# print(\"Naive Classification Model Based on Training Proportions\")\n",
    "# print(f\"\\tTrain Accuracy: {naive_train_acc:.4f}\")\n"
   ]
  },
  {
   "cell_type": "markdown",
   "metadata": {
    "deletable": false,
    "editable": false
   },
   "source": [
    "<!-- END QUESTION -->\n",
    "\n",
    "<!-- BEGIN QUESTION -->\n",
    "\n",
    "<a id=\"part6\"></a>\n",
    "\n",
    "## <div class='exercise'>Question 6: BONUS!</div>\n",
    "\n",
    "[Return to contents](#contents)"
   ]
  },
  {
   "cell_type": "markdown",
   "metadata": {
    "cell_id": "0a790850-87c6-4f46-b89e-048a2295c92b",
    "colab_type": "text",
    "deletable": false,
    "editable": false,
    "id": "IGFtXJmQap2q"
   },
   "source": [
    "<div class='exercise-r'>\n",
    "\n",
    "**Q6 (optional)** Incorporate what you've learned from the PCA and/or Missingness sections of the course to create a new, improved classification model. You could focus on improving predictive performance, inference, interpretability, or all of the above! \n",
    "\n",
    "Be sure to also describe your approach and analyze your results.\n",
    "\n",
    "While this section is optional, we highly encourge you to experiment (and not just for the sake of the potential bonus points 😉).\n",
    "\n",
    "**Note:** Though you should report the test performance of this new, \"bonus\" model, selecting the bonus model over the 'final model' from Q5.4 would have to be justified based on cross-validation performance, *not* test performance! \n",
    "    \n",
    "</div>"
   ]
  },
  {
   "cell_type": "markdown",
   "metadata": {},
   "source": [
    "<div class=\"highlight-box\" style=\"border: 1px solid #ffcccb; background-color: #ffcccb; height: 5px;\"></div>"
   ]
  },
  {
   "cell_type": "markdown",
   "metadata": {},
   "source": [
    "_Type your answer here, replacing this text._"
   ]
  },
  {
   "cell_type": "markdown",
   "metadata": {},
   "source": [
    "<div class=\"highlight-box\" style=\"border: 1px solid #ffcccb; background-color: #ffcccb; height: 5px;\"></div>"
   ]
  },
  {
   "cell_type": "markdown",
   "metadata": {
    "deletable": false,
    "editable": false
   },
   "source": [
    "<!-- END QUESTION -->\n",
    "\n",
    "<div class=\"alert alert-info\" style=\"color: #4a4a4a; background-color: #fbe8ff; border-color: #eed4db; border-width: 1px; border-radius: 3px; padding: 10px;\">\n",
    "\n",
    "**Wrap-up**\n",
    "\n",
    "* Please describe the aspect(s) of the assignment you found most challenging. This could be conceptual and/or related to coding and implementation. This is also a good place to ask any remaining questions you may have.\n",
    "\n",
    "* How many hours did you spend working on this assignment? Store this as an int or float in `hours_spent_on_hw`. If you worked on the project in a group, report the *average* time spent per person.\n",
    "\n",
    "</div>"
   ]
  },
  {
   "cell_type": "markdown",
   "metadata": {},
   "source": [
    "An aspect of the assignment I found most challenging was the amount of parts and units in the homework. While the assignment was stimulating and I enjoyed it, there was just so much information to keep track of, that I think one goes on autopilot at a certain point in the pset and does not really take the information home to the brain. I'm curious if this is felt by others in the class.\n",
    "\n",
    "My last question is why the accuracy of my models is so bad. I gave my best explanation, but there seem to be a lot of theories floated around by TFs and ChatGPT, and I can't really sift through all of it to figure out what is truly correct. "
   ]
  },
  {
   "cell_type": "code",
   "execution_count": 395,
   "metadata": {
    "tags": []
   },
   "outputs": [],
   "source": [
    "hours_spent_on_hw = 15"
   ]
  },
  {
   "cell_type": "code",
   "execution_count": 396,
   "metadata": {
    "deletable": false,
    "editable": false
   },
   "outputs": [
    {
     "data": {
      "text/html": [
       "<p><strong><pre style='display: inline;'>wrapup</pre></strong> passed! 🌈</p>"
      ],
      "text/plain": [
       "wrapup results: All test cases passed!"
      ]
     },
     "execution_count": 396,
     "metadata": {},
     "output_type": "execute_result"
    }
   ],
   "source": [
    "grader.check(\"wrapup\")"
   ]
  },
  {
   "cell_type": "code",
   "execution_count": 397,
   "metadata": {},
   "outputs": [
    {
     "name": "stdout",
     "output_type": "stream",
     "text": [
      "It took 8.89 minutes for this notebook to run\n"
     ]
    }
   ],
   "source": [
    "notebook_end = time.time()\n",
    "print(f\"It took {(notebook_end - notebook_start)/60:.2f} minutes for this notebook to run\")"
   ]
  },
  {
   "cell_type": "markdown",
   "metadata": {},
   "source": [
    "🌈 **This concludes HW5. Thank you!**\n",
    "\n",
    "[Return to contents](#contents)"
   ]
  }
 ],
 "metadata": {
  "interpreter": {
   "hash": "aee8b7b246df8f9039afb4144a1f6fd8d2ca17a180786b69acc140d282b71a49"
  },
  "kernelspec": {
   "display_name": "Python 3 (ipykernel)",
   "language": "python",
   "name": "python3"
  },
  "language_info": {
   "codemirror_mode": {
    "name": "ipython",
    "version": 3
   },
   "file_extension": ".py",
   "mimetype": "text/x-python",
   "name": "python",
   "nbconvert_exporter": "python",
   "pygments_lexer": "ipython3",
   "version": "3.12.5"
  },
  "otter": {
   "OK_FORMAT": true,
   "tests": {
    "q1.1": {
     "name": "q1.1",
     "points": 2.5,
     "suites": [
      {
       "cases": [
        {
         "code": ">>> assert np.isclose(naive_train_acc, 0.7299, atol=0.0001), 'Incorrect naive train accuracy'\n",
         "hidden": false,
         "locked": false,
         "points": 2.5
        }
       ],
       "scored": true,
       "setup": "",
       "teardown": "",
       "type": "doctest"
      }
     ]
    },
    "q1.4": {
     "name": "q1.4",
     "points": 4,
     "suites": [
      {
       "cases": [
        {
         "code": ">>> assert type(logit1_4) == type(LogisticRegression()), 'logit1_4 should be am sklearn LogisticRegression object'\n",
         "hidden": false,
         "locked": false,
         "points": 0
        },
        {
         "code": ">>> assert np.isclose(p_harvard, 0.2938, atol=0.0001), 'Incorrect value for p_harvard'\n",
         "hidden": false,
         "locked": false,
         "points": 1
        },
        {
         "code": ">>> assert np.isclose(p_yale, 0.2445, atol=0.0001), 'Incorrect value for p_yale'\n",
         "hidden": false,
         "locked": false,
         "points": 1
        }
       ],
       "scored": true,
       "setup": "",
       "teardown": "",
       "type": "doctest"
      }
     ]
    },
    "q2.1": {
     "name": "q2.1",
     "points": 3,
     "suites": [
      {
       "cases": [
        {
         "code": ">>> assert np.isclose(logit2_1_intercept, -10.5474, atol=0.0001), 'logit2_1_intercept should be a float between -10 and 10'\n>>> assert np.isclose(logit2_1_coef_test_score, 0.0043, atol=0.0001), 'logit2_1_coef_test_score should be a float between -1 and 1'\n",
         "hidden": false,
         "locked": false,
         "points": 1
        },
        {
         "code": ">>> assert np.isclose(acc_train_logit2_1, 0.7299, atol=0.0001), 'acc_train_logit2_1 is incorrect'\n",
         "hidden": false,
         "locked": false,
         "points": 1
        },
        {
         "code": ">>> assert np.isclose(acc_cv_logit2_1, 0.73, atol=0.0001), 'acc_cv_logit2_1 is incorrect'\n",
         "hidden": false,
         "locked": false,
         "points": 1
        }
       ],
       "scored": true,
       "setup": "",
       "teardown": "",
       "type": "doctest"
      }
     ]
    },
    "q2.2": {
     "name": "q2.2",
     "points": 4,
     "suites": [
      {
       "cases": [
        {
         "code": ">>> assert np.isclose(prob_test_2250, 0.3019, atol=0.0001), 'prob_test_2250 is incorrect'\n",
         "hidden": false,
         "locked": false,
         "points": 1.25
        },
        {
         "code": ">>> assert np.isclose(prob_test_2400, 0.4525, atol=0.0001), 'prob_test_2400 is incorrect'\n",
         "hidden": false,
         "locked": false,
         "points": 1.25
        },
        {
         "code": ">>> assert np.isclose(test_50_50, 2444.2, atol=0.01), 'test_50_50 is incorrect'\n",
         "hidden": false,
         "locked": false,
         "points": 1.5
        }
       ],
       "scored": true,
       "setup": "",
       "teardown": "",
       "type": "doctest"
      }
     ]
    },
    "q2.3": {
     "name": "q2.3",
     "points": 3,
     "suites": [
      {
       "cases": [
        {
         "code": ">>> assert np.isclose(logit2_3_intercept, -10.9086, atol=0.0001), 'logit2_3_intercept is incorrect.'\n>>> assert np.isclose(logit2_3_coef_test_score, 0.0046, atol=0.0001), 'logit2_3_coef_test is incorrect.'\n>>> assert np.isclose(logit2_3_coef_avg_ap, -0.0723, atol=0.0001), 'logit2_3_coef_avg_ap is incorrect.'\n",
         "hidden": false,
         "locked": false,
         "points": 1
        },
        {
         "code": ">>> assert np.isclose(acc_train_logit2_3, 0.7306, atol=0.0001), 'acc_train_logit2_3 is incorrect'\n",
         "hidden": false,
         "locked": false,
         "points": 1
        },
        {
         "code": ">>> assert np.isclose(acc_cv_logit2_3, 0.7299, atol=0.0001), 'acc_av_logit2_3 is incorrect'\n",
         "hidden": false,
         "locked": false,
         "points": 1
        }
       ],
       "scored": true,
       "setup": "",
       "teardown": "",
       "type": "doctest"
      }
     ]
    },
    "q3.1": {
     "name": "q3.1",
     "points": 4,
     "suites": [
      {
       "cases": [
        {
         "code": ">>> assert np.isclose(acc_train_logit3_1, 0.7353, atol=0.0001), 'acc_train_logit3_1 is incorrect'\n",
         "hidden": false,
         "locked": false,
         "points": 1
        },
        {
         "code": ">>> assert np.isclose(acc_cv_logit3_1, 0.73, atol=0.0001), 'acc_test_logit3_1 is incorrect'\n",
         "hidden": false,
         "locked": false,
         "points": 1
        }
       ],
       "scored": true,
       "setup": "",
       "teardown": "",
       "type": "doctest"
      }
     ]
    },
    "q3.2": {
     "name": "q3.2",
     "points": 3,
     "suites": [
      {
       "cases": [
        {
         "code": ">>> assert len(logit3_2_coefs) == 5, 'logit3_2 should have 5 coefficients (not including the intercept)'\n",
         "hidden": false,
         "locked": false,
         "points": 1
        },
        {
         "code": ">>> assert np.isclose(acc_train_logit3_2, 0.736, atol=0.0001), 'logit3_2 coef values is incorrect'\n>>> assert np.isclose(acc_cv_logit3_2, 0.7353, atol=0.0001), 'logit3_2 coef values is incorrect'\n",
         "hidden": false,
         "locked": false,
         "points": 2
        }
       ],
       "scored": true,
       "setup": "",
       "teardown": "",
       "type": "doctest"
      }
     ]
    },
    "q3.6": {
     "name": "q3.6",
     "points": 3,
     "suites": [
      {
       "cases": [
        {
         "code": ">>> assert len(logit3_6.coef_.flatten()) == 6, 'logit3_6 should have 6 coefficients (not including the intercept)'\n",
         "hidden": false,
         "locked": false,
         "points": 1
        },
        {
         "code": ">>> assert np.isclose(acc_train_logit3_6, 0.7353, atol=0.0001), 'logit3_6 train accuracy is incorrect.'\n>>> assert np.isclose(acc_cv_logit3_6, 0.7279, atol=0.0001), 'logit3_6 CV accuracy is incorrect.'\n",
         "hidden": false,
         "locked": false,
         "points": 2
        }
       ],
       "scored": true,
       "setup": "",
       "teardown": "",
       "type": "doctest"
      }
     ]
    },
    "q4.1": {
     "name": "q4.1",
     "points": 4,
     "suites": [
      {
       "cases": [
        {
         "code": ">>> assert np.isclose(X_train[non_binary_predictors].values.mean(), 0), 'Non-binary predictors in train should now have mean 0'\n>>> assert np.isclose(X_test[non_binary_predictors].values.mean(), 0, atol=0.1), 'Non-binary predictors in test should now have mean near 0'\n>>> assert np.isclose(X_train[non_binary_predictors].values.std(), 1), 'Non-binary predictors in train should now have std 1'\n>>> assert np.isclose(X_test[non_binary_predictors].values.std(), 1, atol=0.1), 'Non-binary predictors in test should now have std near 1'\n>>> assert set(X_train['harvard'].unique()) == {0, 1}, 'You should not scale the binary predictors.'\n",
         "hidden": false,
         "locked": false,
         "points": 1
        }
       ],
       "scored": true,
       "setup": "",
       "teardown": "",
       "type": "doctest"
      }
     ]
    },
    "q4.3": {
     "name": "q4.3",
     "points": 3,
     "suites": [
      {
       "cases": [
        {
         "code": ">>> assert np.isclose(logit_full_cv_acc, 0.738, atol=0.001), 'logit_full_cv_acc is incorrect'\n",
         "hidden": false,
         "locked": false,
         "points": 1.5
        }
       ],
       "scored": true,
       "setup": "",
       "teardown": "",
       "type": "doctest"
      }
     ]
    },
    "q4.4": {
     "name": "q4.4",
     "points": 4,
     "suites": [
      {
       "cases": [
        {
         "code": ">>> assert np.isclose(logit_lasso_train_acc, 0.742, atol=0.002), 'logit_lasso_train_acc is incorrect'\n",
         "hidden": false,
         "locked": false,
         "points": 2
        },
        {
         "code": ">>> assert np.isclose(logit_lasso_cv_acc, 0.738, atol=0.002), 'logit_lasso_cv_acc is incorrect'\n",
         "hidden": false,
         "locked": false,
         "points": 2
        }
       ],
       "scored": true,
       "setup": "",
       "teardown": "",
       "type": "doctest"
      }
     ]
    },
    "q4.5": {
     "name": "q4.5",
     "points": 3,
     "suites": [
      {
       "cases": [
        {
         "code": ">>> assert len(predictors_important) == 11, 'Incorrect number of important predictors'\n",
         "hidden": false,
         "locked": false,
         "points": 1
        },
        {
         "code": ">>> assert len(predictors_not_important) == 1, 'Incorrect number of non-important predictors'\n",
         "hidden": false,
         "locked": false,
         "points": 1
        }
       ],
       "scored": true,
       "setup": "",
       "teardown": "",
       "type": "doctest"
      }
     ]
    },
    "q4.7": {
     "name": "q4.7",
     "points": 2,
     "suites": [
      {
       "cases": [
        {
         "code": ">>> assert num_important_coefs == 44, 'Incorrect number of important predictors'\n",
         "hidden": false,
         "locked": false,
         "points": 1
        },
        {
         "code": ">>> assert num_unimportant_coefs == 22, 'Incorrect number of non-important predictors'\n",
         "hidden": false,
         "locked": false,
         "points": 1
        }
       ],
       "scored": true,
       "setup": "",
       "teardown": "",
       "type": "doctest"
      }
     ]
    },
    "q5.3": {
     "name": "q5.3",
     "points": 3,
     "suites": [
      {
       "cases": [
        {
         "code": ">>> assert len(auc_list) == 4, 'You should have 4 entries in auc_list'\n",
         "hidden": false,
         "locked": false,
         "points": 0
        },
        {
         "code": ">>> assert np.allclose(auc_list, [0.6528, 0.7013, 0.7024, 0.6946], atol=0.001), 'AUC scores are off.'\n",
         "hidden": false,
         "locked": false,
         "points": 2
        }
       ],
       "scored": true,
       "setup": "",
       "teardown": "",
       "type": "doctest"
      }
     ]
    },
    "wrapup": {
     "name": "wrapup",
     "points": 0,
     "suites": [
      {
       "cases": [
        {
         "code": ">>> assert float(hours_spent_on_hw), 'Please select a time in hours (int or float) to specify how long you spent on this assignment.'\n",
         "hidden": false,
         "locked": false
        }
       ],
       "scored": true,
       "setup": "",
       "teardown": "",
       "type": "doctest"
      }
     ]
    }
   }
  }
 },
 "nbformat": 4,
 "nbformat_minor": 4
}
